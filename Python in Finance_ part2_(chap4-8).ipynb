{
 "cells": [
  {
   "cell_type": "markdown",
   "metadata": {},
   "source": [
    "## Chap4. Data type and structure"
   ]
  },
  {
   "cell_type": "markdown",
   "metadata": {},
   "source": [
    "### 4.1 data type"
   ]
  },
  {
   "cell_type": "code",
   "execution_count": 1,
   "metadata": {},
   "outputs": [
    {
     "data": {
      "text/plain": [
       "int"
      ]
     },
     "execution_count": 1,
     "metadata": {},
     "output_type": "execute_result"
    }
   ],
   "source": [
    "# int\n",
    "a = 10\n",
    "type(a)"
   ]
  },
  {
   "cell_type": "code",
   "execution_count": 2,
   "metadata": {},
   "outputs": [
    {
     "data": {
      "text/plain": [
       "float"
      ]
     },
     "execution_count": 2,
     "metadata": {},
     "output_type": "execute_result"
    }
   ],
   "source": [
    "#float\n",
    "a = 1.\n",
    "type(a)"
   ]
  },
  {
   "cell_type": "code",
   "execution_count": 3,
   "metadata": {},
   "outputs": [
    {
     "data": {
      "text/plain": [
       "str"
      ]
     },
     "execution_count": 3,
     "metadata": {},
     "output_type": "execute_result"
    }
   ],
   "source": [
    "#string\n",
    "s = 'this is a string object'\n",
    "type(s)"
   ]
  },
  {
   "cell_type": "code",
   "execution_count": 4,
   "metadata": {},
   "outputs": [
    {
     "data": {
      "text/plain": [
       "'This is a string object'"
      ]
     },
     "execution_count": 4,
     "metadata": {},
     "output_type": "execute_result"
    }
   ],
   "source": [
    "# methods in string\n",
    "s.capitalize()"
   ]
  },
  {
   "cell_type": "code",
   "execution_count": 5,
   "metadata": {},
   "outputs": [
    {
     "data": {
      "text/plain": [
       "['this', 'is', 'a', 'string', 'object']"
      ]
     },
     "execution_count": 5,
     "metadata": {},
     "output_type": "execute_result"
    }
   ],
   "source": [
    "# methods in string\n",
    "s.split()"
   ]
  },
  {
   "cell_type": "code",
   "execution_count": 17,
   "metadata": {},
   "outputs": [
    {
     "data": {
      "text/plain": [
       "10"
      ]
     },
     "execution_count": 17,
     "metadata": {},
     "output_type": "execute_result"
    }
   ],
   "source": [
    "# methods in string\n",
    "s.find('string')\n",
    "#will return the index number of 'string'"
   ]
  },
  {
   "cell_type": "code",
   "execution_count": 18,
   "metadata": {},
   "outputs": [
    {
     "data": {
      "text/plain": [
       "'this|is|a|string|object'"
      ]
     },
     "execution_count": 18,
     "metadata": {},
     "output_type": "execute_result"
    }
   ],
   "source": [
    "s.replace(' ','|')"
   ]
  },
  {
   "cell_type": "code",
   "execution_count": 14,
   "metadata": {},
   "outputs": [
    {
     "data": {
      "text/plain": [
       "'this is a string object'"
      ]
     },
     "execution_count": 14,
     "metadata": {},
     "output_type": "execute_result"
    }
   ],
   "source": [
    "# all these methods do not change the string itself, if we need to modify an obejct ,we need to use s = s.replace(' ','|')\n",
    "s"
   ]
  },
  {
   "cell_type": "markdown",
   "metadata": {},
   "source": [
    "### 4.2 Basic data structure"
   ]
  },
  {
   "cell_type": "markdown",
   "metadata": {},
   "source": [
    "#### Basic data structure includes tuple, list, dictionary and set"
   ]
  },
  {
   "cell_type": "code",
   "execution_count": 21,
   "metadata": {},
   "outputs": [
    {
     "data": {
      "text/plain": [
       "tuple"
      ]
     },
     "execution_count": 21,
     "metadata": {},
     "output_type": "execute_result"
    }
   ],
   "source": [
    "#Tuple\n",
    "t = (1,2,'time',2)\n",
    "type(t)"
   ]
  },
  {
   "cell_type": "code",
   "execution_count": 22,
   "metadata": {},
   "outputs": [
    {
     "data": {
      "text/plain": [
       "'time'"
      ]
     },
     "execution_count": 22,
     "metadata": {},
     "output_type": "execute_result"
    }
   ],
   "source": [
    "t[2]"
   ]
  },
  {
   "cell_type": "code",
   "execution_count": 23,
   "metadata": {},
   "outputs": [
    {
     "data": {
      "text/plain": [
       "2"
      ]
     },
     "execution_count": 23,
     "metadata": {},
     "output_type": "execute_result"
    }
   ],
   "source": [
    "t.count(2)"
   ]
  },
  {
   "cell_type": "code",
   "execution_count": 25,
   "metadata": {},
   "outputs": [
    {
     "data": {
      "text/plain": [
       "2"
      ]
     },
     "execution_count": 25,
     "metadata": {},
     "output_type": "execute_result"
    }
   ],
   "source": [
    "t.index('time')\n",
    "#index starts from 0 like list"
   ]
  },
  {
   "cell_type": "code",
   "execution_count": 9,
   "metadata": {},
   "outputs": [
    {
     "data": {
      "text/plain": [
       "list"
      ]
     },
     "execution_count": 9,
     "metadata": {},
     "output_type": "execute_result"
    }
   ],
   "source": [
    "#list\n",
    "list1 = [1,3,4,'data']\n",
    "type(list1)"
   ]
  },
  {
   "cell_type": "code",
   "execution_count": 10,
   "metadata": {},
   "outputs": [
    {
     "data": {
      "text/plain": [
       "[1, 3, 4, 'data', ['a', 'b']]"
      ]
     },
     "execution_count": 10,
     "metadata": {},
     "output_type": "execute_result"
    }
   ],
   "source": [
    "list1.append(['a', 'b'])\n",
    "list1"
   ]
  },
  {
   "cell_type": "code",
   "execution_count": 11,
   "metadata": {},
   "outputs": [
    {
     "data": {
      "text/plain": [
       "[3, 4, 'data', ['a', 'b']]"
      ]
     },
     "execution_count": 11,
     "metadata": {},
     "output_type": "execute_result"
    }
   ],
   "source": [
    "list1.remove(1)\n",
    "list1\n",
    "#will remove the first occurrence of object"
   ]
  },
  {
   "cell_type": "code",
   "execution_count": 12,
   "metadata": {},
   "outputs": [
    {
     "data": {
      "text/plain": [
       "3"
      ]
     },
     "execution_count": 12,
     "metadata": {},
     "output_type": "execute_result"
    }
   ],
   "source": [
    "p = list1.pop(0)\n",
    "p\n",
    "#pop use the index "
   ]
  },
  {
   "cell_type": "code",
   "execution_count": 13,
   "metadata": {},
   "outputs": [
    {
     "data": {
      "text/plain": [
       "[4, 'data']"
      ]
     },
     "execution_count": 13,
     "metadata": {},
     "output_type": "execute_result"
    }
   ],
   "source": [
    "list1[0:2]\n",
    "#return the first and the second element"
   ]
  },
  {
   "cell_type": "code",
   "execution_count": 19,
   "metadata": {},
   "outputs": [
    {
     "data": {
      "text/plain": [
       "[1, 3, 3, 4, 5, 6, 7]"
      ]
     },
     "execution_count": 19,
     "metadata": {},
     "output_type": "execute_result"
    }
   ],
   "source": [
    "li=[1,3,4,5,6,7,3]\n",
    "li.sort()\n",
    "li"
   ]
  },
  {
   "cell_type": "code",
   "execution_count": 20,
   "metadata": {},
   "outputs": [
    {
     "data": {
      "text/plain": [
       "[7, 6, 5, 4, 3, 3, 1]"
      ]
     },
     "execution_count": 20,
     "metadata": {},
     "output_type": "execute_result"
    }
   ],
   "source": [
    "li.reverse()\n",
    "li"
   ]
  },
  {
   "cell_type": "code",
   "execution_count": 21,
   "metadata": {},
   "outputs": [
    {
     "data": {
      "text/plain": [
       "['a', 7, 6, 5, 4, 3, 3, 1]"
      ]
     },
     "execution_count": 21,
     "metadata": {},
     "output_type": "execute_result"
    }
   ],
   "source": [
    "li.insert(0,'a')\n",
    "li\n",
    "#insert 'a' before index 0"
   ]
  },
  {
   "cell_type": "markdown",
   "metadata": {},
   "source": [
    "### 4.3 Numpy"
   ]
  },
  {
   "cell_type": "code",
   "execution_count": 2,
   "metadata": {},
   "outputs": [],
   "source": [
    "import numpy as np"
   ]
  },
  {
   "cell_type": "code",
   "execution_count": 43,
   "metadata": {},
   "outputs": [
    {
     "data": {
      "text/plain": [
       "numpy.ndarray"
      ]
     },
     "execution_count": 43,
     "metadata": {},
     "output_type": "execute_result"
    }
   ],
   "source": [
    "a = np.array([1,2,4,3,2,5,6])\n",
    "type(a)"
   ]
  },
  {
   "cell_type": "code",
   "execution_count": 24,
   "metadata": {},
   "outputs": [
    {
     "data": {
      "text/plain": [
       "array([1, 2])"
      ]
     },
     "execution_count": 24,
     "metadata": {},
     "output_type": "execute_result"
    }
   ],
   "source": [
    "a[0:2]"
   ]
  },
  {
   "cell_type": "code",
   "execution_count": 25,
   "metadata": {},
   "outputs": [
    {
     "data": {
      "text/plain": [
       "23"
      ]
     },
     "execution_count": 25,
     "metadata": {},
     "output_type": "execute_result"
    }
   ],
   "source": [
    "a.sum()"
   ]
  },
  {
   "cell_type": "code",
   "execution_count": 26,
   "metadata": {},
   "outputs": [
    {
     "data": {
      "text/plain": [
       "array([ 2,  4,  8,  6,  4, 10, 12])"
      ]
     },
     "execution_count": 26,
     "metadata": {},
     "output_type": "execute_result"
    }
   ],
   "source": [
    "a*2"
   ]
  },
  {
   "cell_type": "code",
   "execution_count": 28,
   "metadata": {},
   "outputs": [
    {
     "data": {
      "text/plain": [
       "array([[ 1,  2,  4,  3,  2,  5,  6],\n",
       "       [ 2,  4,  8,  6,  4, 10, 12]])"
      ]
     },
     "execution_count": 28,
     "metadata": {},
     "output_type": "execute_result"
    }
   ],
   "source": [
    "b = np.array([a, a*2])\n",
    "b"
   ]
  },
  {
   "cell_type": "code",
   "execution_count": 30,
   "metadata": {},
   "outputs": [
    {
     "data": {
      "text/plain": [
       "5"
      ]
     },
     "execution_count": 30,
     "metadata": {},
     "output_type": "execute_result"
    }
   ],
   "source": [
    "b[0,5]\n",
    "# the first element is the row index, and the second is the column index"
   ]
  },
  {
   "cell_type": "code",
   "execution_count": 31,
   "metadata": {},
   "outputs": [
    {
     "data": {
      "text/plain": [
       "array([ 3,  6, 12,  9,  6, 15, 18])"
      ]
     },
     "execution_count": 31,
     "metadata": {},
     "output_type": "execute_result"
    }
   ],
   "source": [
    "b.sum(axis=0)\n",
    "# sum along axis 0, column-wise sum"
   ]
  },
  {
   "cell_type": "code",
   "execution_count": null,
   "metadata": {},
   "outputs": [],
   "source": [
    "b.sum(axis=1)\n",
    "# sum along axis 1, row-wise sum"
   ]
  },
  {
   "cell_type": "code",
   "execution_count": 33,
   "metadata": {},
   "outputs": [
    {
     "data": {
      "text/plain": [
       "array([[0., 0., 0.],\n",
       "       [0., 0., 0.]])"
      ]
     },
     "execution_count": 33,
     "metadata": {},
     "output_type": "execute_result"
    }
   ],
   "source": [
    "c = np.zeros((2,3))\n",
    "c\n",
    "#create a new array with 2 rows and 3 columns, and all the elements equal to zero"
   ]
  },
  {
   "cell_type": "code",
   "execution_count": 34,
   "metadata": {},
   "outputs": [
    {
     "data": {
      "text/plain": [
       "array([[1., 1., 1.],\n",
       "       [1., 1., 1.]])"
      ]
     },
     "execution_count": 34,
     "metadata": {},
     "output_type": "execute_result"
    }
   ],
   "source": [
    "d = np.ones_like(c)\n",
    "d\n",
    "#create a new array with the same structure as c but all the elements equal to one"
   ]
  },
  {
   "cell_type": "code",
   "execution_count": 35,
   "metadata": {},
   "outputs": [
    {
     "data": {
      "text/plain": [
       "array([[ 1.13336545, -0.07873128, -0.12939529],\n",
       "       [ 1.10664352, -0.39972184,  2.59277554],\n",
       "       [ 0.99212198,  0.6305855 ,  0.30688763],\n",
       "       [-0.79151266,  0.49418746, -0.85142058]])"
      ]
     },
     "execution_count": 35,
     "metadata": {},
     "output_type": "execute_result"
    }
   ],
   "source": [
    "#boradcast\n",
    "r = np.random.standard_normal((4,3))\n",
    "s = np.random.standard_normal((4,3))\n",
    "r+s"
   ]
  },
  {
   "cell_type": "code",
   "execution_count": 36,
   "metadata": {},
   "outputs": [
    {
     "data": {
      "text/plain": [
       "array([[ 5.22090654,  3.2258554 ,  3.53453208],\n",
       "       [ 5.29442734,  4.3763459 ,  4.29726157],\n",
       "       [ 3.4660022 ,  3.84921111,  2.52499341],\n",
       "       [-0.64453078,  3.37897678, -0.96748414]])"
      ]
     },
     "execution_count": 36,
     "metadata": {},
     "output_type": "execute_result"
    }
   ],
   "source": [
    "2*r+3"
   ]
  },
  {
   "cell_type": "code",
   "execution_count": 45,
   "metadata": {},
   "outputs": [
    {
     "data": {
      "text/plain": [
       "array([[1, 1, 9],\n",
       "       [2, 2, 6]])"
      ]
     },
     "execution_count": 45,
     "metadata": {},
     "output_type": "execute_result"
    }
   ],
   "source": [
    "t = np.array(([1,1,3], [2,2,2]))\n",
    "p = np.array(([1,1,3]))\n",
    "t*p"
   ]
  },
  {
   "cell_type": "markdown",
   "metadata": {},
   "source": [
    "## Chap6. Financial Time Series"
   ]
  },
  {
   "cell_type": "markdown",
   "metadata": {},
   "source": [
    "### 5.1 Pandas basic"
   ]
  },
  {
   "cell_type": "code",
   "execution_count": 1,
   "metadata": {},
   "outputs": [],
   "source": [
    "import pandas as pd"
   ]
  },
  {
   "cell_type": "code",
   "execution_count": 66,
   "metadata": {},
   "outputs": [
    {
     "data": {
      "text/html": [
       "<div>\n",
       "<style scoped>\n",
       "    .dataframe tbody tr th:only-of-type {\n",
       "        vertical-align: middle;\n",
       "    }\n",
       "\n",
       "    .dataframe tbody tr th {\n",
       "        vertical-align: top;\n",
       "    }\n",
       "\n",
       "    .dataframe thead th {\n",
       "        text-align: right;\n",
       "    }\n",
       "</style>\n",
       "<table border=\"1\" class=\"dataframe\">\n",
       "  <thead>\n",
       "    <tr style=\"text-align: right;\">\n",
       "      <th></th>\n",
       "      <th>numbers</th>\n",
       "    </tr>\n",
       "  </thead>\n",
       "  <tbody>\n",
       "    <tr>\n",
       "      <td>a</td>\n",
       "      <td>1</td>\n",
       "    </tr>\n",
       "    <tr>\n",
       "      <td>b</td>\n",
       "      <td>3</td>\n",
       "    </tr>\n",
       "    <tr>\n",
       "      <td>c</td>\n",
       "      <td>5</td>\n",
       "    </tr>\n",
       "    <tr>\n",
       "      <td>d</td>\n",
       "      <td>6</td>\n",
       "    </tr>\n",
       "    <tr>\n",
       "      <td>e</td>\n",
       "      <td>7</td>\n",
       "    </tr>\n",
       "  </tbody>\n",
       "</table>\n",
       "</div>"
      ],
      "text/plain": [
       "   numbers\n",
       "a        1\n",
       "b        3\n",
       "c        5\n",
       "d        6\n",
       "e        7"
      ]
     },
     "execution_count": 66,
     "metadata": {},
     "output_type": "execute_result"
    }
   ],
   "source": [
    "#dataframe\n",
    "df = pd.DataFrame([1,3,5,6,7], columns=['numbers'], index =['a','b','c','d','e'])\n",
    "df"
   ]
  },
  {
   "cell_type": "code",
   "execution_count": 67,
   "metadata": {},
   "outputs": [
    {
     "data": {
      "text/plain": [
       "Index(['a', 'b', 'c', 'd', 'e'], dtype='object')"
      ]
     },
     "execution_count": 67,
     "metadata": {},
     "output_type": "execute_result"
    }
   ],
   "source": [
    "df.index"
   ]
  },
  {
   "cell_type": "code",
   "execution_count": 68,
   "metadata": {},
   "outputs": [
    {
     "data": {
      "text/plain": [
       "Index(['numbers'], dtype='object')"
      ]
     },
     "execution_count": 68,
     "metadata": {},
     "output_type": "execute_result"
    }
   ],
   "source": [
    "df.columns"
   ]
  },
  {
   "cell_type": "code",
   "execution_count": 69,
   "metadata": {},
   "outputs": [
    {
     "data": {
      "text/plain": [
       "numbers    1\n",
       "Name: a, dtype: int64"
      ]
     },
     "execution_count": 69,
     "metadata": {},
     "output_type": "execute_result"
    }
   ],
   "source": [
    "df.loc['a']\n",
    "#loc for index based and iloc for positional based"
   ]
  },
  {
   "cell_type": "code",
   "execution_count": 70,
   "metadata": {},
   "outputs": [
    {
     "data": {
      "text/html": [
       "<div>\n",
       "<style scoped>\n",
       "    .dataframe tbody tr th:only-of-type {\n",
       "        vertical-align: middle;\n",
       "    }\n",
       "\n",
       "    .dataframe tbody tr th {\n",
       "        vertical-align: top;\n",
       "    }\n",
       "\n",
       "    .dataframe thead th {\n",
       "        text-align: right;\n",
       "    }\n",
       "</style>\n",
       "<table border=\"1\" class=\"dataframe\">\n",
       "  <thead>\n",
       "    <tr style=\"text-align: right;\">\n",
       "      <th></th>\n",
       "      <th>numbers</th>\n",
       "    </tr>\n",
       "  </thead>\n",
       "  <tbody>\n",
       "    <tr>\n",
       "      <td>b</td>\n",
       "      <td>3</td>\n",
       "    </tr>\n",
       "    <tr>\n",
       "      <td>c</td>\n",
       "      <td>5</td>\n",
       "    </tr>\n",
       "  </tbody>\n",
       "</table>\n",
       "</div>"
      ],
      "text/plain": [
       "   numbers\n",
       "b        3\n",
       "c        5"
      ]
     },
     "execution_count": 70,
     "metadata": {},
     "output_type": "execute_result"
    }
   ],
   "source": [
    "df.iloc[1:3]"
   ]
  },
  {
   "cell_type": "code",
   "execution_count": 71,
   "metadata": {},
   "outputs": [
    {
     "data": {
      "text/plain": [
       "numbers    22\n",
       "dtype: int64"
      ]
     },
     "execution_count": 71,
     "metadata": {},
     "output_type": "execute_result"
    }
   ],
   "source": [
    "df.sum()"
   ]
  },
  {
   "cell_type": "code",
   "execution_count": 72,
   "metadata": {},
   "outputs": [
    {
     "data": {
      "text/html": [
       "<div>\n",
       "<style scoped>\n",
       "    .dataframe tbody tr th:only-of-type {\n",
       "        vertical-align: middle;\n",
       "    }\n",
       "\n",
       "    .dataframe tbody tr th {\n",
       "        vertical-align: top;\n",
       "    }\n",
       "\n",
       "    .dataframe thead th {\n",
       "        text-align: right;\n",
       "    }\n",
       "</style>\n",
       "<table border=\"1\" class=\"dataframe\">\n",
       "  <thead>\n",
       "    <tr style=\"text-align: right;\">\n",
       "      <th></th>\n",
       "      <th>numbers</th>\n",
       "      <th>float</th>\n",
       "    </tr>\n",
       "  </thead>\n",
       "  <tbody>\n",
       "    <tr>\n",
       "      <td>a</td>\n",
       "      <td>1</td>\n",
       "      <td>1.2</td>\n",
       "    </tr>\n",
       "    <tr>\n",
       "      <td>b</td>\n",
       "      <td>3</td>\n",
       "      <td>3.4</td>\n",
       "    </tr>\n",
       "    <tr>\n",
       "      <td>c</td>\n",
       "      <td>5</td>\n",
       "      <td>2.4</td>\n",
       "    </tr>\n",
       "    <tr>\n",
       "      <td>d</td>\n",
       "      <td>6</td>\n",
       "      <td>4.1</td>\n",
       "    </tr>\n",
       "    <tr>\n",
       "      <td>e</td>\n",
       "      <td>7</td>\n",
       "      <td>5.6</td>\n",
       "    </tr>\n",
       "  </tbody>\n",
       "</table>\n",
       "</div>"
      ],
      "text/plain": [
       "   numbers  float\n",
       "a        1    1.2\n",
       "b        3    3.4\n",
       "c        5    2.4\n",
       "d        6    4.1\n",
       "e        7    5.6"
      ]
     },
     "execution_count": 72,
     "metadata": {},
     "output_type": "execute_result"
    }
   ],
   "source": [
    "#generate a new column\n",
    "df['float'] = (1.2, 3.4, 2.4, 4.1, 5.6)\n",
    "df"
   ]
  },
  {
   "cell_type": "code",
   "execution_count": 73,
   "metadata": {},
   "outputs": [
    {
     "data": {
      "text/html": [
       "<div>\n",
       "<style scoped>\n",
       "    .dataframe tbody tr th:only-of-type {\n",
       "        vertical-align: middle;\n",
       "    }\n",
       "\n",
       "    .dataframe tbody tr th {\n",
       "        vertical-align: top;\n",
       "    }\n",
       "\n",
       "    .dataframe thead th {\n",
       "        text-align: right;\n",
       "    }\n",
       "</style>\n",
       "<table border=\"1\" class=\"dataframe\">\n",
       "  <thead>\n",
       "    <tr style=\"text-align: right;\">\n",
       "      <th></th>\n",
       "      <th>numbers</th>\n",
       "      <th>float</th>\n",
       "      <th>name</th>\n",
       "    </tr>\n",
       "  </thead>\n",
       "  <tbody>\n",
       "    <tr>\n",
       "      <td>a</td>\n",
       "      <td>1</td>\n",
       "      <td>1.2</td>\n",
       "      <td>Carrey</td>\n",
       "    </tr>\n",
       "    <tr>\n",
       "      <td>b</td>\n",
       "      <td>3</td>\n",
       "      <td>3.4</td>\n",
       "      <td>Luke</td>\n",
       "    </tr>\n",
       "    <tr>\n",
       "      <td>c</td>\n",
       "      <td>5</td>\n",
       "      <td>2.4</td>\n",
       "      <td>Jake</td>\n",
       "    </tr>\n",
       "    <tr>\n",
       "      <td>d</td>\n",
       "      <td>6</td>\n",
       "      <td>4.1</td>\n",
       "      <td>Mike</td>\n",
       "    </tr>\n",
       "    <tr>\n",
       "      <td>e</td>\n",
       "      <td>7</td>\n",
       "      <td>5.6</td>\n",
       "      <td>Lucy</td>\n",
       "    </tr>\n",
       "  </tbody>\n",
       "</table>\n",
       "</div>"
      ],
      "text/plain": [
       "   numbers  float    name\n",
       "a        1    1.2  Carrey\n",
       "b        3    3.4    Luke\n",
       "c        5    2.4    Jake\n",
       "d        6    4.1    Mike\n",
       "e        7    5.6    Lucy"
      ]
     },
     "execution_count": 73,
     "metadata": {},
     "output_type": "execute_result"
    }
   ],
   "source": [
    "# generate a new column with predefined index\n",
    "df['name']=pd.DataFrame(['Luke', 'Carrey', 'Jake', 'Lucy', 'Mike'], index = ['b','a','c','e','d'])\n",
    "df"
   ]
  },
  {
   "cell_type": "code",
   "execution_count": 18,
   "metadata": {},
   "outputs": [
    {
     "data": {
      "text/html": [
       "<div>\n",
       "<style scoped>\n",
       "    .dataframe tbody tr th:only-of-type {\n",
       "        vertical-align: middle;\n",
       "    }\n",
       "\n",
       "    .dataframe tbody tr th {\n",
       "        vertical-align: top;\n",
       "    }\n",
       "\n",
       "    .dataframe thead th {\n",
       "        text-align: right;\n",
       "    }\n",
       "</style>\n",
       "<table border=\"1\" class=\"dataframe\">\n",
       "  <thead>\n",
       "    <tr style=\"text-align: right;\">\n",
       "      <th></th>\n",
       "      <th>numbers</th>\n",
       "      <th>float</th>\n",
       "      <th>name</th>\n",
       "    </tr>\n",
       "  </thead>\n",
       "  <tbody>\n",
       "    <tr>\n",
       "      <td>a</td>\n",
       "      <td>1</td>\n",
       "      <td>1.2</td>\n",
       "      <td>Carrey</td>\n",
       "    </tr>\n",
       "    <tr>\n",
       "      <td>b</td>\n",
       "      <td>3</td>\n",
       "      <td>3.4</td>\n",
       "      <td>Luke</td>\n",
       "    </tr>\n",
       "    <tr>\n",
       "      <td>c</td>\n",
       "      <td>5</td>\n",
       "      <td>2.4</td>\n",
       "      <td>Jake</td>\n",
       "    </tr>\n",
       "    <tr>\n",
       "      <td>d</td>\n",
       "      <td>6</td>\n",
       "      <td>4.1</td>\n",
       "      <td>Mike</td>\n",
       "    </tr>\n",
       "    <tr>\n",
       "      <td>e</td>\n",
       "      <td>7</td>\n",
       "      <td>5.6</td>\n",
       "      <td>Lucy</td>\n",
       "    </tr>\n",
       "    <tr>\n",
       "      <td>z</td>\n",
       "      <td>100</td>\n",
       "      <td>3.6</td>\n",
       "      <td>Mark</td>\n",
       "    </tr>\n",
       "  </tbody>\n",
       "</table>\n",
       "</div>"
      ],
      "text/plain": [
       "   numbers  float    name\n",
       "a        1    1.2  Carrey\n",
       "b        3    3.4    Luke\n",
       "c        5    2.4    Jake\n",
       "d        6    4.1    Mike\n",
       "e        7    5.6    Lucy\n",
       "z      100    3.6    Mark"
      ]
     },
     "execution_count": 18,
     "metadata": {},
     "output_type": "execute_result"
    }
   ],
   "source": [
    "#add observation\n",
    "df = df.append(pd.DataFrame({'numbers':100, 'float':3.6,'name':'Mark'},index =['z']))\n",
    "df"
   ]
  },
  {
   "cell_type": "code",
   "execution_count": 19,
   "metadata": {},
   "outputs": [
    {
     "data": {
      "text/html": [
       "<div>\n",
       "<style scoped>\n",
       "    .dataframe tbody tr th:only-of-type {\n",
       "        vertical-align: middle;\n",
       "    }\n",
       "\n",
       "    .dataframe tbody tr th {\n",
       "        vertical-align: top;\n",
       "    }\n",
       "\n",
       "    .dataframe thead th {\n",
       "        text-align: right;\n",
       "    }\n",
       "</style>\n",
       "<table border=\"1\" class=\"dataframe\">\n",
       "  <thead>\n",
       "    <tr style=\"text-align: right;\">\n",
       "      <th></th>\n",
       "      <th>numbers</th>\n",
       "      <th>float</th>\n",
       "      <th>name</th>\n",
       "      <th>integer</th>\n",
       "    </tr>\n",
       "  </thead>\n",
       "  <tbody>\n",
       "    <tr>\n",
       "      <td>a</td>\n",
       "      <td>1.0</td>\n",
       "      <td>1.2</td>\n",
       "      <td>Carrey</td>\n",
       "      <td>6.0</td>\n",
       "    </tr>\n",
       "    <tr>\n",
       "      <td>b</td>\n",
       "      <td>3.0</td>\n",
       "      <td>3.4</td>\n",
       "      <td>Luke</td>\n",
       "      <td>1.0</td>\n",
       "    </tr>\n",
       "    <tr>\n",
       "      <td>c</td>\n",
       "      <td>5.0</td>\n",
       "      <td>2.4</td>\n",
       "      <td>Jake</td>\n",
       "      <td>8.0</td>\n",
       "    </tr>\n",
       "    <tr>\n",
       "      <td>d</td>\n",
       "      <td>6.0</td>\n",
       "      <td>4.1</td>\n",
       "      <td>Mike</td>\n",
       "      <td>NaN</td>\n",
       "    </tr>\n",
       "    <tr>\n",
       "      <td>e</td>\n",
       "      <td>7.0</td>\n",
       "      <td>5.6</td>\n",
       "      <td>Lucy</td>\n",
       "      <td>7.0</td>\n",
       "    </tr>\n",
       "    <tr>\n",
       "      <td>f</td>\n",
       "      <td>NaN</td>\n",
       "      <td>NaN</td>\n",
       "      <td>NaN</td>\n",
       "      <td>9.0</td>\n",
       "    </tr>\n",
       "    <tr>\n",
       "      <td>z</td>\n",
       "      <td>100.0</td>\n",
       "      <td>3.6</td>\n",
       "      <td>Mark</td>\n",
       "      <td>NaN</td>\n",
       "    </tr>\n",
       "  </tbody>\n",
       "</table>\n",
       "</div>"
      ],
      "text/plain": [
       "   numbers  float    name  integer\n",
       "a      1.0    1.2  Carrey      6.0\n",
       "b      3.0    3.4    Luke      1.0\n",
       "c      5.0    2.4    Jake      8.0\n",
       "d      6.0    4.1    Mike      NaN\n",
       "e      7.0    5.6    Lucy      7.0\n",
       "f      NaN    NaN     NaN      9.0\n",
       "z    100.0    3.6    Mark      NaN"
      ]
     },
     "execution_count": 19,
     "metadata": {},
     "output_type": "execute_result"
    }
   ],
   "source": [
    "#add new column\n",
    "df = df.join(pd.DataFrame([1,6,8,7,9], index=['b','a','c','e','f'], columns=['integer']),how='outer')\n",
    "df\n",
    "#pandas assume the missing value is NaN for the new index"
   ]
  },
  {
   "cell_type": "code",
   "execution_count": 22,
   "metadata": {},
   "outputs": [
    {
     "data": {
      "text/html": [
       "<div>\n",
       "<style scoped>\n",
       "    .dataframe tbody tr th:only-of-type {\n",
       "        vertical-align: middle;\n",
       "    }\n",
       "\n",
       "    .dataframe tbody tr th {\n",
       "        vertical-align: top;\n",
       "    }\n",
       "\n",
       "    .dataframe thead th {\n",
       "        text-align: right;\n",
       "    }\n",
       "</style>\n",
       "<table border=\"1\" class=\"dataframe\">\n",
       "  <thead>\n",
       "    <tr style=\"text-align: right;\">\n",
       "      <th></th>\n",
       "      <th>numbers</th>\n",
       "      <th>float</th>\n",
       "      <th>name</th>\n",
       "      <th>integer</th>\n",
       "    </tr>\n",
       "  </thead>\n",
       "  <tbody>\n",
       "    <tr>\n",
       "      <td>a</td>\n",
       "      <td>1.0</td>\n",
       "      <td>1.2</td>\n",
       "      <td>Carrey</td>\n",
       "      <td>6.0</td>\n",
       "    </tr>\n",
       "    <tr>\n",
       "      <td>b</td>\n",
       "      <td>3.0</td>\n",
       "      <td>3.4</td>\n",
       "      <td>Luke</td>\n",
       "      <td>1.0</td>\n",
       "    </tr>\n",
       "    <tr>\n",
       "      <td>c</td>\n",
       "      <td>5.0</td>\n",
       "      <td>2.4</td>\n",
       "      <td>Jake</td>\n",
       "      <td>8.0</td>\n",
       "    </tr>\n",
       "    <tr>\n",
       "      <td>d</td>\n",
       "      <td>6.0</td>\n",
       "      <td>4.1</td>\n",
       "      <td>Mike</td>\n",
       "      <td>NaN</td>\n",
       "    </tr>\n",
       "    <tr>\n",
       "      <td>e</td>\n",
       "      <td>7.0</td>\n",
       "      <td>5.6</td>\n",
       "      <td>Lucy</td>\n",
       "      <td>7.0</td>\n",
       "    </tr>\n",
       "    <tr>\n",
       "      <td>f</td>\n",
       "      <td>3.0</td>\n",
       "      <td>5.6</td>\n",
       "      <td>Jay</td>\n",
       "      <td>9.0</td>\n",
       "    </tr>\n",
       "    <tr>\n",
       "      <td>z</td>\n",
       "      <td>100.0</td>\n",
       "      <td>3.6</td>\n",
       "      <td>Mark</td>\n",
       "      <td>NaN</td>\n",
       "    </tr>\n",
       "  </tbody>\n",
       "</table>\n",
       "</div>"
      ],
      "text/plain": [
       "   numbers  float    name  integer\n",
       "a      1.0    1.2  Carrey      6.0\n",
       "b      3.0    3.4    Luke      1.0\n",
       "c      5.0    2.4    Jake      8.0\n",
       "d      6.0    4.1    Mike      NaN\n",
       "e      7.0    5.6    Lucy      7.0\n",
       "f      3.0    5.6     Jay      9.0\n",
       "z    100.0    3.6    Mark      NaN"
      ]
     },
     "execution_count": 22,
     "metadata": {},
     "output_type": "execute_result"
    }
   ],
   "source": [
    "df.loc['f']=[3,5.6,'Jay',9]\n",
    "df"
   ]
  },
  {
   "cell_type": "code",
   "execution_count": 43,
   "metadata": {},
   "outputs": [
    {
     "data": {
      "text/plain": [
       "array([[-0.939, -0.78 , -0.649,  2.851],\n",
       "       [-0.498,  0.608,  0.882,  0.409],\n",
       "       [ 2.785, -0.212, -0.629, -0.678],\n",
       "       [ 0.788,  0.165, -1.223, -0.127],\n",
       "       [ 1.306, -0.724,  0.858, -2.03 ],\n",
       "       [-0.666, -0.923, -0.103, -0.955],\n",
       "       [-0.91 , -0.56 , -0.077,  0.061]])"
      ]
     },
     "execution_count": 43,
     "metadata": {},
     "output_type": "execute_result"
    }
   ],
   "source": [
    "#generate random numbers\n",
    "a = np.random.standard_normal((7,4))\n",
    "a.round(3)"
   ]
  },
  {
   "cell_type": "code",
   "execution_count": 44,
   "metadata": {},
   "outputs": [
    {
     "data": {
      "text/html": [
       "<div>\n",
       "<style scoped>\n",
       "    .dataframe tbody tr th:only-of-type {\n",
       "        vertical-align: middle;\n",
       "    }\n",
       "\n",
       "    .dataframe tbody tr th {\n",
       "        vertical-align: top;\n",
       "    }\n",
       "\n",
       "    .dataframe thead th {\n",
       "        text-align: right;\n",
       "    }\n",
       "</style>\n",
       "<table border=\"1\" class=\"dataframe\">\n",
       "  <thead>\n",
       "    <tr style=\"text-align: right;\">\n",
       "      <th></th>\n",
       "      <th>0</th>\n",
       "      <th>1</th>\n",
       "      <th>2</th>\n",
       "      <th>3</th>\n",
       "    </tr>\n",
       "  </thead>\n",
       "  <tbody>\n",
       "    <tr>\n",
       "      <td>0</td>\n",
       "      <td>-0.939181</td>\n",
       "      <td>-0.779529</td>\n",
       "      <td>-0.648674</td>\n",
       "      <td>2.850916</td>\n",
       "    </tr>\n",
       "    <tr>\n",
       "      <td>1</td>\n",
       "      <td>-0.498137</td>\n",
       "      <td>0.607654</td>\n",
       "      <td>0.881503</td>\n",
       "      <td>0.408630</td>\n",
       "    </tr>\n",
       "    <tr>\n",
       "      <td>2</td>\n",
       "      <td>2.785468</td>\n",
       "      <td>-0.211583</td>\n",
       "      <td>-0.629224</td>\n",
       "      <td>-0.678447</td>\n",
       "    </tr>\n",
       "    <tr>\n",
       "      <td>3</td>\n",
       "      <td>0.788097</td>\n",
       "      <td>0.165342</td>\n",
       "      <td>-1.223311</td>\n",
       "      <td>-0.126751</td>\n",
       "    </tr>\n",
       "    <tr>\n",
       "      <td>4</td>\n",
       "      <td>1.306100</td>\n",
       "      <td>-0.723848</td>\n",
       "      <td>0.857826</td>\n",
       "      <td>-2.029658</td>\n",
       "    </tr>\n",
       "    <tr>\n",
       "      <td>5</td>\n",
       "      <td>-0.665599</td>\n",
       "      <td>-0.923263</td>\n",
       "      <td>-0.102986</td>\n",
       "      <td>-0.955275</td>\n",
       "    </tr>\n",
       "    <tr>\n",
       "      <td>6</td>\n",
       "      <td>-0.909991</td>\n",
       "      <td>-0.560493</td>\n",
       "      <td>-0.076503</td>\n",
       "      <td>0.060968</td>\n",
       "    </tr>\n",
       "  </tbody>\n",
       "</table>\n",
       "</div>"
      ],
      "text/plain": [
       "          0         1         2         3\n",
       "0 -0.939181 -0.779529 -0.648674  2.850916\n",
       "1 -0.498137  0.607654  0.881503  0.408630\n",
       "2  2.785468 -0.211583 -0.629224 -0.678447\n",
       "3  0.788097  0.165342 -1.223311 -0.126751\n",
       "4  1.306100 -0.723848  0.857826 -2.029658\n",
       "5 -0.665599 -0.923263 -0.102986 -0.955275\n",
       "6 -0.909991 -0.560493 -0.076503  0.060968"
      ]
     },
     "execution_count": 44,
     "metadata": {},
     "output_type": "execute_result"
    }
   ],
   "source": [
    "#convert an array to a dataframe\n",
    "df1= pd.DataFrame(a)\n",
    "df1"
   ]
  },
  {
   "cell_type": "code",
   "execution_count": 45,
   "metadata": {},
   "outputs": [
    {
     "data": {
      "text/html": [
       "<div>\n",
       "<style scoped>\n",
       "    .dataframe tbody tr th:only-of-type {\n",
       "        vertical-align: middle;\n",
       "    }\n",
       "\n",
       "    .dataframe tbody tr th {\n",
       "        vertical-align: top;\n",
       "    }\n",
       "\n",
       "    .dataframe thead th {\n",
       "        text-align: right;\n",
       "    }\n",
       "</style>\n",
       "<table border=\"1\" class=\"dataframe\">\n",
       "  <thead>\n",
       "    <tr style=\"text-align: right;\">\n",
       "      <th></th>\n",
       "      <th>No1</th>\n",
       "      <th>No2</th>\n",
       "      <th>No3</th>\n",
       "      <th>No4</th>\n",
       "    </tr>\n",
       "  </thead>\n",
       "  <tbody>\n",
       "    <tr>\n",
       "      <td>0</td>\n",
       "      <td>-0.939181</td>\n",
       "      <td>-0.779529</td>\n",
       "      <td>-0.648674</td>\n",
       "      <td>2.850916</td>\n",
       "    </tr>\n",
       "    <tr>\n",
       "      <td>1</td>\n",
       "      <td>-0.498137</td>\n",
       "      <td>0.607654</td>\n",
       "      <td>0.881503</td>\n",
       "      <td>0.408630</td>\n",
       "    </tr>\n",
       "    <tr>\n",
       "      <td>2</td>\n",
       "      <td>2.785468</td>\n",
       "      <td>-0.211583</td>\n",
       "      <td>-0.629224</td>\n",
       "      <td>-0.678447</td>\n",
       "    </tr>\n",
       "    <tr>\n",
       "      <td>3</td>\n",
       "      <td>0.788097</td>\n",
       "      <td>0.165342</td>\n",
       "      <td>-1.223311</td>\n",
       "      <td>-0.126751</td>\n",
       "    </tr>\n",
       "    <tr>\n",
       "      <td>4</td>\n",
       "      <td>1.306100</td>\n",
       "      <td>-0.723848</td>\n",
       "      <td>0.857826</td>\n",
       "      <td>-2.029658</td>\n",
       "    </tr>\n",
       "    <tr>\n",
       "      <td>5</td>\n",
       "      <td>-0.665599</td>\n",
       "      <td>-0.923263</td>\n",
       "      <td>-0.102986</td>\n",
       "      <td>-0.955275</td>\n",
       "    </tr>\n",
       "    <tr>\n",
       "      <td>6</td>\n",
       "      <td>-0.909991</td>\n",
       "      <td>-0.560493</td>\n",
       "      <td>-0.076503</td>\n",
       "      <td>0.060968</td>\n",
       "    </tr>\n",
       "  </tbody>\n",
       "</table>\n",
       "</div>"
      ],
      "text/plain": [
       "        No1       No2       No3       No4\n",
       "0 -0.939181 -0.779529 -0.648674  2.850916\n",
       "1 -0.498137  0.607654  0.881503  0.408630\n",
       "2  2.785468 -0.211583 -0.629224 -0.678447\n",
       "3  0.788097  0.165342 -1.223311 -0.126751\n",
       "4  1.306100 -0.723848  0.857826 -2.029658\n",
       "5 -0.665599 -0.923263 -0.102986 -0.955275\n",
       "6 -0.909991 -0.560493 -0.076503  0.060968"
      ]
     },
     "execution_count": 45,
     "metadata": {},
     "output_type": "execute_result"
    }
   ],
   "source": [
    "df1.columns=['No1', 'No2', 'No3','No4']\n",
    "df1"
   ]
  },
  {
   "cell_type": "code",
   "execution_count": 46,
   "metadata": {},
   "outputs": [
    {
     "data": {
      "text/plain": [
       "DatetimeIndex(['2021-01-31', '2021-02-28', '2021-03-31', '2021-04-30',\n",
       "               '2021-05-31', '2021-06-30', '2021-07-31'],\n",
       "              dtype='datetime64[ns]', freq='M')"
      ]
     },
     "execution_count": 46,
     "metadata": {},
     "output_type": "execute_result"
    }
   ],
   "source": [
    "#time series\n",
    "dates = pd.date_range('2021-1-1',periods=7,freq='M')\n",
    "dates"
   ]
  },
  {
   "cell_type": "code",
   "execution_count": 47,
   "metadata": {},
   "outputs": [
    {
     "data": {
      "text/html": [
       "<div>\n",
       "<style scoped>\n",
       "    .dataframe tbody tr th:only-of-type {\n",
       "        vertical-align: middle;\n",
       "    }\n",
       "\n",
       "    .dataframe tbody tr th {\n",
       "        vertical-align: top;\n",
       "    }\n",
       "\n",
       "    .dataframe thead th {\n",
       "        text-align: right;\n",
       "    }\n",
       "</style>\n",
       "<table border=\"1\" class=\"dataframe\">\n",
       "  <thead>\n",
       "    <tr style=\"text-align: right;\">\n",
       "      <th></th>\n",
       "      <th>No1</th>\n",
       "      <th>No2</th>\n",
       "      <th>No3</th>\n",
       "      <th>No4</th>\n",
       "    </tr>\n",
       "  </thead>\n",
       "  <tbody>\n",
       "    <tr>\n",
       "      <td>2021-01-31</td>\n",
       "      <td>-0.939181</td>\n",
       "      <td>-0.779529</td>\n",
       "      <td>-0.648674</td>\n",
       "      <td>2.850916</td>\n",
       "    </tr>\n",
       "    <tr>\n",
       "      <td>2021-02-28</td>\n",
       "      <td>-0.498137</td>\n",
       "      <td>0.607654</td>\n",
       "      <td>0.881503</td>\n",
       "      <td>0.408630</td>\n",
       "    </tr>\n",
       "    <tr>\n",
       "      <td>2021-03-31</td>\n",
       "      <td>2.785468</td>\n",
       "      <td>-0.211583</td>\n",
       "      <td>-0.629224</td>\n",
       "      <td>-0.678447</td>\n",
       "    </tr>\n",
       "    <tr>\n",
       "      <td>2021-04-30</td>\n",
       "      <td>0.788097</td>\n",
       "      <td>0.165342</td>\n",
       "      <td>-1.223311</td>\n",
       "      <td>-0.126751</td>\n",
       "    </tr>\n",
       "    <tr>\n",
       "      <td>2021-05-31</td>\n",
       "      <td>1.306100</td>\n",
       "      <td>-0.723848</td>\n",
       "      <td>0.857826</td>\n",
       "      <td>-2.029658</td>\n",
       "    </tr>\n",
       "    <tr>\n",
       "      <td>2021-06-30</td>\n",
       "      <td>-0.665599</td>\n",
       "      <td>-0.923263</td>\n",
       "      <td>-0.102986</td>\n",
       "      <td>-0.955275</td>\n",
       "    </tr>\n",
       "    <tr>\n",
       "      <td>2021-07-31</td>\n",
       "      <td>-0.909991</td>\n",
       "      <td>-0.560493</td>\n",
       "      <td>-0.076503</td>\n",
       "      <td>0.060968</td>\n",
       "    </tr>\n",
       "  </tbody>\n",
       "</table>\n",
       "</div>"
      ],
      "text/plain": [
       "                 No1       No2       No3       No4\n",
       "2021-01-31 -0.939181 -0.779529 -0.648674  2.850916\n",
       "2021-02-28 -0.498137  0.607654  0.881503  0.408630\n",
       "2021-03-31  2.785468 -0.211583 -0.629224 -0.678447\n",
       "2021-04-30  0.788097  0.165342 -1.223311 -0.126751\n",
       "2021-05-31  1.306100 -0.723848  0.857826 -2.029658\n",
       "2021-06-30 -0.665599 -0.923263 -0.102986 -0.955275\n",
       "2021-07-31 -0.909991 -0.560493 -0.076503  0.060968"
      ]
     },
     "execution_count": 47,
     "metadata": {},
     "output_type": "execute_result"
    }
   ],
   "source": [
    "df1.index = dates\n",
    "df1\n",
    "#add date as index"
   ]
  },
  {
   "cell_type": "code",
   "execution_count": 48,
   "metadata": {},
   "outputs": [
    {
     "data": {
      "text/plain": [
       "No1    1.866756\n",
       "No2   -2.425719\n",
       "No3   -0.941368\n",
       "No4   -0.469619\n",
       "dtype: float64"
      ]
     },
     "execution_count": 48,
     "metadata": {},
     "output_type": "execute_result"
    }
   ],
   "source": [
    "df1.sum(axis=0)\n",
    "#sum according to column"
   ]
  },
  {
   "cell_type": "code",
   "execution_count": 49,
   "metadata": {},
   "outputs": [
    {
     "data": {
      "text/plain": [
       "2021-01-31    0.483531\n",
       "2021-02-28    1.399649\n",
       "2021-03-31    1.266215\n",
       "2021-04-30   -0.396623\n",
       "2021-05-31   -0.589580\n",
       "2021-06-30   -2.647123\n",
       "2021-07-31   -1.486019\n",
       "Freq: M, dtype: float64"
      ]
     },
     "execution_count": 49,
     "metadata": {},
     "output_type": "execute_result"
    }
   ],
   "source": [
    "df1.sum(axis=1)\n",
    "#sum according to row"
   ]
  },
  {
   "cell_type": "code",
   "execution_count": 50,
   "metadata": {},
   "outputs": [
    {
     "data": {
      "text/html": [
       "<div>\n",
       "<style scoped>\n",
       "    .dataframe tbody tr th:only-of-type {\n",
       "        vertical-align: middle;\n",
       "    }\n",
       "\n",
       "    .dataframe tbody tr th {\n",
       "        vertical-align: top;\n",
       "    }\n",
       "\n",
       "    .dataframe thead th {\n",
       "        text-align: right;\n",
       "    }\n",
       "</style>\n",
       "<table border=\"1\" class=\"dataframe\">\n",
       "  <thead>\n",
       "    <tr style=\"text-align: right;\">\n",
       "      <th></th>\n",
       "      <th>No1</th>\n",
       "      <th>No2</th>\n",
       "      <th>No3</th>\n",
       "      <th>No4</th>\n",
       "    </tr>\n",
       "  </thead>\n",
       "  <tbody>\n",
       "    <tr>\n",
       "      <td>count</td>\n",
       "      <td>7.000000</td>\n",
       "      <td>7.000000</td>\n",
       "      <td>7.000000</td>\n",
       "      <td>7.000000</td>\n",
       "    </tr>\n",
       "    <tr>\n",
       "      <td>mean</td>\n",
       "      <td>0.266679</td>\n",
       "      <td>-0.346531</td>\n",
       "      <td>-0.134481</td>\n",
       "      <td>-0.067088</td>\n",
       "    </tr>\n",
       "    <tr>\n",
       "      <td>std</td>\n",
       "      <td>1.413583</td>\n",
       "      <td>0.562576</td>\n",
       "      <td>0.786974</td>\n",
       "      <td>1.515219</td>\n",
       "    </tr>\n",
       "    <tr>\n",
       "      <td>min</td>\n",
       "      <td>-0.939181</td>\n",
       "      <td>-0.923263</td>\n",
       "      <td>-1.223311</td>\n",
       "      <td>-2.029658</td>\n",
       "    </tr>\n",
       "    <tr>\n",
       "      <td>25%</td>\n",
       "      <td>-0.787795</td>\n",
       "      <td>-0.751689</td>\n",
       "      <td>-0.638949</td>\n",
       "      <td>-0.816861</td>\n",
       "    </tr>\n",
       "    <tr>\n",
       "      <td>50%</td>\n",
       "      <td>-0.498137</td>\n",
       "      <td>-0.560493</td>\n",
       "      <td>-0.102986</td>\n",
       "      <td>-0.126751</td>\n",
       "    </tr>\n",
       "    <tr>\n",
       "      <td>75%</td>\n",
       "      <td>1.047098</td>\n",
       "      <td>-0.023120</td>\n",
       "      <td>0.390662</td>\n",
       "      <td>0.234799</td>\n",
       "    </tr>\n",
       "    <tr>\n",
       "      <td>max</td>\n",
       "      <td>2.785468</td>\n",
       "      <td>0.607654</td>\n",
       "      <td>0.881503</td>\n",
       "      <td>2.850916</td>\n",
       "    </tr>\n",
       "  </tbody>\n",
       "</table>\n",
       "</div>"
      ],
      "text/plain": [
       "            No1       No2       No3       No4\n",
       "count  7.000000  7.000000  7.000000  7.000000\n",
       "mean   0.266679 -0.346531 -0.134481 -0.067088\n",
       "std    1.413583  0.562576  0.786974  1.515219\n",
       "min   -0.939181 -0.923263 -1.223311 -2.029658\n",
       "25%   -0.787795 -0.751689 -0.638949 -0.816861\n",
       "50%   -0.498137 -0.560493 -0.102986 -0.126751\n",
       "75%    1.047098 -0.023120  0.390662  0.234799\n",
       "max    2.785468  0.607654  0.881503  2.850916"
      ]
     },
     "execution_count": 50,
     "metadata": {},
     "output_type": "execute_result"
    }
   ],
   "source": [
    "df1.describe()"
   ]
  },
  {
   "cell_type": "code",
   "execution_count": 51,
   "metadata": {},
   "outputs": [
    {
     "name": "stderr",
     "output_type": "stream",
     "text": [
      "C:\\Anaconda3201910\\lib\\site-packages\\ipykernel_launcher.py:1: RuntimeWarning: invalid value encountered in sqrt\n",
      "  \"\"\"Entry point for launching an IPython kernel.\n"
     ]
    },
    {
     "data": {
      "text/plain": [
       "No1    3.699568\n",
       "No2    1.186145\n",
       "No3    1.865073\n",
       "No4    2.574623\n",
       "dtype: float64"
      ]
     },
     "execution_count": 51,
     "metadata": {},
     "output_type": "execute_result"
    }
   ],
   "source": [
    "np.sqrt(df1).sum()"
   ]
  },
  {
   "cell_type": "code",
   "execution_count": 52,
   "metadata": {},
   "outputs": [],
   "source": [
    "df1['group']= (1,2,1,2,3,3,1)"
   ]
  },
  {
   "cell_type": "code",
   "execution_count": 53,
   "metadata": {},
   "outputs": [
    {
     "data": {
      "text/plain": [
       "Index(['No1', 'No2', 'No3', 'No4', 'group'], dtype='object')"
      ]
     },
     "execution_count": 53,
     "metadata": {},
     "output_type": "execute_result"
    }
   ],
   "source": [
    "df1.columns"
   ]
  },
  {
   "cell_type": "code",
   "execution_count": 54,
   "metadata": {},
   "outputs": [
    {
     "data": {
      "text/plain": [
       "-0.7795291985884851"
      ]
     },
     "execution_count": 54,
     "metadata": {},
     "output_type": "execute_result"
    }
   ],
   "source": [
    "#iloc is used to refer to the index of the column or row\n",
    "df1.iloc[0,1] #first row and second column"
   ]
  },
  {
   "cell_type": "code",
   "execution_count": 55,
   "metadata": {},
   "outputs": [
    {
     "data": {
      "text/plain": [
       "No1     -0.939181\n",
       "No2     -0.779529\n",
       "No3     -0.648674\n",
       "No4      2.850916\n",
       "group    1.000000\n",
       "Name: 2021-01-31 00:00:00, dtype: float64"
      ]
     },
     "execution_count": 55,
     "metadata": {},
     "output_type": "execute_result"
    }
   ],
   "source": [
    "#while loc is used to refer the name of the column or row\n",
    "df1.loc['2021-01-31',:]"
   ]
  },
  {
   "cell_type": "code",
   "execution_count": 56,
   "metadata": {},
   "outputs": [
    {
     "data": {
      "text/plain": [
       "2021-01-31    2.850916\n",
       "2021-02-28    0.408630\n",
       "2021-03-31   -0.678447\n",
       "2021-04-30   -0.126751\n",
       "2021-05-31   -2.029658\n",
       "2021-06-30   -0.955275\n",
       "2021-07-31    0.060968\n",
       "Freq: M, Name: No4, dtype: float64"
      ]
     },
     "execution_count": 56,
     "metadata": {},
     "output_type": "execute_result"
    }
   ],
   "source": [
    "df1.loc[:,'No4']"
   ]
  },
  {
   "cell_type": "code",
   "execution_count": 58,
   "metadata": {},
   "outputs": [
    {
     "data": {
      "text/html": [
       "<div>\n",
       "<style scoped>\n",
       "    .dataframe tbody tr th:only-of-type {\n",
       "        vertical-align: middle;\n",
       "    }\n",
       "\n",
       "    .dataframe tbody tr th {\n",
       "        vertical-align: top;\n",
       "    }\n",
       "\n",
       "    .dataframe thead th {\n",
       "        text-align: right;\n",
       "    }\n",
       "</style>\n",
       "<table border=\"1\" class=\"dataframe\">\n",
       "  <thead>\n",
       "    <tr style=\"text-align: right;\">\n",
       "      <th></th>\n",
       "      <th>No1</th>\n",
       "      <th>No2</th>\n",
       "      <th>No3</th>\n",
       "      <th>No4</th>\n",
       "    </tr>\n",
       "    <tr>\n",
       "      <th>group</th>\n",
       "      <th></th>\n",
       "      <th></th>\n",
       "      <th></th>\n",
       "      <th></th>\n",
       "    </tr>\n",
       "  </thead>\n",
       "  <tbody>\n",
       "    <tr>\n",
       "      <td>1</td>\n",
       "      <td>0.312098</td>\n",
       "      <td>-0.517201</td>\n",
       "      <td>-0.451467</td>\n",
       "      <td>0.744479</td>\n",
       "    </tr>\n",
       "    <tr>\n",
       "      <td>2</td>\n",
       "      <td>0.144980</td>\n",
       "      <td>0.386498</td>\n",
       "      <td>-0.170904</td>\n",
       "      <td>0.140939</td>\n",
       "    </tr>\n",
       "    <tr>\n",
       "      <td>3</td>\n",
       "      <td>0.320250</td>\n",
       "      <td>-0.823555</td>\n",
       "      <td>0.377420</td>\n",
       "      <td>-1.492467</td>\n",
       "    </tr>\n",
       "  </tbody>\n",
       "</table>\n",
       "</div>"
      ],
      "text/plain": [
       "            No1       No2       No3       No4\n",
       "group                                        \n",
       "1      0.312098 -0.517201 -0.451467  0.744479\n",
       "2      0.144980  0.386498 -0.170904  0.140939\n",
       "3      0.320250 -0.823555  0.377420 -1.492467"
      ]
     },
     "execution_count": 58,
     "metadata": {},
     "output_type": "execute_result"
    }
   ],
   "source": [
    "groups = df1.groupby('group')\n",
    "groups.mean()"
   ]
  },
  {
   "cell_type": "code",
   "execution_count": 64,
   "metadata": {},
   "outputs": [
    {
     "name": "stdout",
     "output_type": "stream",
     "text": [
      "Collecting pandas_datareader\n",
      "  Downloading https://files.pythonhosted.org/packages/22/f1/a02eea03628865c3d4c29849cda8c8a73f43358048aee47d79dfbfa6c6c3/pandas_datareader-0.9.0-py3-none-any.whl (107kB)\n",
      "Requirement already satisfied: lxml in c:\\anaconda3201910\\lib\\site-packages (from pandas_datareader) (4.4.1)\n",
      "Requirement already satisfied: pandas>=0.23 in c:\\anaconda3201910\\lib\\site-packages (from pandas_datareader) (0.25.1)\n",
      "Requirement already satisfied: requests>=2.19.0 in c:\\anaconda3201910\\lib\\site-packages (from pandas_datareader) (2.22.0)\n",
      "Requirement already satisfied: python-dateutil>=2.6.1 in c:\\anaconda3201910\\lib\\site-packages (from pandas>=0.23->pandas_datareader) (2.8.0)\n",
      "Requirement already satisfied: numpy>=1.13.3 in c:\\anaconda3201910\\lib\\site-packages (from pandas>=0.23->pandas_datareader) (1.16.5)\n",
      "Requirement already satisfied: pytz>=2017.2 in c:\\anaconda3201910\\lib\\site-packages (from pandas>=0.23->pandas_datareader) (2019.3)\n",
      "Requirement already satisfied: idna<2.9,>=2.5 in c:\\anaconda3201910\\lib\\site-packages (from requests>=2.19.0->pandas_datareader) (2.8)\n",
      "Requirement already satisfied: certifi>=2017.4.17 in c:\\anaconda3201910\\lib\\site-packages (from requests>=2.19.0->pandas_datareader) (2019.9.11)\n",
      "Requirement already satisfied: chardet<3.1.0,>=3.0.2 in c:\\anaconda3201910\\lib\\site-packages (from requests>=2.19.0->pandas_datareader) (3.0.4)\n",
      "Requirement already satisfied: urllib3!=1.25.0,!=1.25.1,<1.26,>=1.21.1 in c:\\anaconda3201910\\lib\\site-packages (from requests>=2.19.0->pandas_datareader) (1.24.2)\n",
      "Requirement already satisfied: six>=1.5 in c:\\anaconda3201910\\lib\\site-packages (from python-dateutil>=2.6.1->pandas>=0.23->pandas_datareader) (1.12.0)\n",
      "Installing collected packages: pandas-datareader\n",
      "Successfully installed pandas-datareader-0.9.0\n"
     ]
    }
   ],
   "source": [
    "!pip install pandas_datareader"
   ]
  },
  {
   "cell_type": "code",
   "execution_count": 78,
   "metadata": {},
   "outputs": [],
   "source": [
    "#import financial data\n",
    "from pandas_datareader import data\n",
    "start_date = '2021-01-01'\n",
    "end_date = '2021-04-01'\n",
    "df_stock = data.DataReader(['AAPL', 'MSFT'],\"yahoo\", start_date, end_date)"
   ]
  },
  {
   "cell_type": "code",
   "execution_count": 79,
   "metadata": {},
   "outputs": [
    {
     "data": {
      "text/html": [
       "<div>\n",
       "<style scoped>\n",
       "    .dataframe tbody tr th:only-of-type {\n",
       "        vertical-align: middle;\n",
       "    }\n",
       "\n",
       "    .dataframe tbody tr th {\n",
       "        vertical-align: top;\n",
       "    }\n",
       "\n",
       "    .dataframe thead tr th {\n",
       "        text-align: left;\n",
       "    }\n",
       "\n",
       "    .dataframe thead tr:last-of-type th {\n",
       "        text-align: right;\n",
       "    }\n",
       "</style>\n",
       "<table border=\"1\" class=\"dataframe\">\n",
       "  <thead>\n",
       "    <tr>\n",
       "      <th>Attributes</th>\n",
       "      <th colspan=\"2\" halign=\"left\">Adj Close</th>\n",
       "      <th colspan=\"2\" halign=\"left\">Close</th>\n",
       "      <th colspan=\"2\" halign=\"left\">High</th>\n",
       "      <th colspan=\"2\" halign=\"left\">Low</th>\n",
       "      <th colspan=\"2\" halign=\"left\">Open</th>\n",
       "      <th colspan=\"2\" halign=\"left\">Volume</th>\n",
       "    </tr>\n",
       "    <tr>\n",
       "      <th>Symbols</th>\n",
       "      <th>AAPL</th>\n",
       "      <th>MSFT</th>\n",
       "      <th>AAPL</th>\n",
       "      <th>MSFT</th>\n",
       "      <th>AAPL</th>\n",
       "      <th>MSFT</th>\n",
       "      <th>AAPL</th>\n",
       "      <th>MSFT</th>\n",
       "      <th>AAPL</th>\n",
       "      <th>MSFT</th>\n",
       "      <th>AAPL</th>\n",
       "      <th>MSFT</th>\n",
       "    </tr>\n",
       "    <tr>\n",
       "      <th>Date</th>\n",
       "      <th></th>\n",
       "      <th></th>\n",
       "      <th></th>\n",
       "      <th></th>\n",
       "      <th></th>\n",
       "      <th></th>\n",
       "      <th></th>\n",
       "      <th></th>\n",
       "      <th></th>\n",
       "      <th></th>\n",
       "      <th></th>\n",
       "      <th></th>\n",
       "    </tr>\n",
       "  </thead>\n",
       "  <tbody>\n",
       "    <tr>\n",
       "      <td>2021-01-04</td>\n",
       "      <td>129.216919</td>\n",
       "      <td>217.189774</td>\n",
       "      <td>129.410004</td>\n",
       "      <td>217.690002</td>\n",
       "      <td>133.610001</td>\n",
       "      <td>223.000000</td>\n",
       "      <td>126.760002</td>\n",
       "      <td>214.809998</td>\n",
       "      <td>133.520004</td>\n",
       "      <td>222.529999</td>\n",
       "      <td>143301900.0</td>\n",
       "      <td>37130100.0</td>\n",
       "    </tr>\n",
       "    <tr>\n",
       "      <td>2021-01-05</td>\n",
       "      <td>130.814514</td>\n",
       "      <td>217.399292</td>\n",
       "      <td>131.009995</td>\n",
       "      <td>217.899994</td>\n",
       "      <td>131.740005</td>\n",
       "      <td>218.520004</td>\n",
       "      <td>128.429993</td>\n",
       "      <td>215.699997</td>\n",
       "      <td>128.889999</td>\n",
       "      <td>217.259995</td>\n",
       "      <td>97664900.0</td>\n",
       "      <td>23823000.0</td>\n",
       "    </tr>\n",
       "    <tr>\n",
       "      <td>2021-01-06</td>\n",
       "      <td>126.411102</td>\n",
       "      <td>211.762268</td>\n",
       "      <td>126.599998</td>\n",
       "      <td>212.250000</td>\n",
       "      <td>131.050003</td>\n",
       "      <td>216.490005</td>\n",
       "      <td>126.379997</td>\n",
       "      <td>211.940002</td>\n",
       "      <td>127.720001</td>\n",
       "      <td>212.169998</td>\n",
       "      <td>155088000.0</td>\n",
       "      <td>35930700.0</td>\n",
       "    </tr>\n",
       "    <tr>\n",
       "      <td>2021-01-07</td>\n",
       "      <td>130.724655</td>\n",
       "      <td>217.788391</td>\n",
       "      <td>130.919998</td>\n",
       "      <td>218.289993</td>\n",
       "      <td>131.630005</td>\n",
       "      <td>219.339996</td>\n",
       "      <td>127.860001</td>\n",
       "      <td>213.710007</td>\n",
       "      <td>128.360001</td>\n",
       "      <td>214.039993</td>\n",
       "      <td>109578200.0</td>\n",
       "      <td>27694500.0</td>\n",
       "    </tr>\n",
       "    <tr>\n",
       "      <td>2021-01-08</td>\n",
       "      <td>131.852966</td>\n",
       "      <td>219.115341</td>\n",
       "      <td>132.050003</td>\n",
       "      <td>219.619995</td>\n",
       "      <td>132.630005</td>\n",
       "      <td>220.580002</td>\n",
       "      <td>130.229996</td>\n",
       "      <td>217.029999</td>\n",
       "      <td>132.429993</td>\n",
       "      <td>218.679993</td>\n",
       "      <td>105158200.0</td>\n",
       "      <td>22956200.0</td>\n",
       "    </tr>\n",
       "    <tr>\n",
       "      <td>...</td>\n",
       "      <td>...</td>\n",
       "      <td>...</td>\n",
       "      <td>...</td>\n",
       "      <td>...</td>\n",
       "      <td>...</td>\n",
       "      <td>...</td>\n",
       "      <td>...</td>\n",
       "      <td>...</td>\n",
       "      <td>...</td>\n",
       "      <td>...</td>\n",
       "      <td>...</td>\n",
       "      <td>...</td>\n",
       "    </tr>\n",
       "    <tr>\n",
       "      <td>2021-03-26</td>\n",
       "      <td>121.209999</td>\n",
       "      <td>236.479996</td>\n",
       "      <td>121.209999</td>\n",
       "      <td>236.479996</td>\n",
       "      <td>121.480003</td>\n",
       "      <td>236.710007</td>\n",
       "      <td>118.919998</td>\n",
       "      <td>231.550003</td>\n",
       "      <td>120.349998</td>\n",
       "      <td>231.550003</td>\n",
       "      <td>93958900.0</td>\n",
       "      <td>25471700.0</td>\n",
       "    </tr>\n",
       "    <tr>\n",
       "      <td>2021-03-29</td>\n",
       "      <td>121.389999</td>\n",
       "      <td>235.240005</td>\n",
       "      <td>121.389999</td>\n",
       "      <td>235.240005</td>\n",
       "      <td>122.580002</td>\n",
       "      <td>236.800003</td>\n",
       "      <td>120.730003</td>\n",
       "      <td>231.880005</td>\n",
       "      <td>121.650002</td>\n",
       "      <td>236.589996</td>\n",
       "      <td>80819200.0</td>\n",
       "      <td>25227500.0</td>\n",
       "    </tr>\n",
       "    <tr>\n",
       "      <td>2021-03-30</td>\n",
       "      <td>119.900002</td>\n",
       "      <td>231.850006</td>\n",
       "      <td>119.900002</td>\n",
       "      <td>231.850006</td>\n",
       "      <td>120.400002</td>\n",
       "      <td>233.850006</td>\n",
       "      <td>118.860001</td>\n",
       "      <td>231.100006</td>\n",
       "      <td>120.110001</td>\n",
       "      <td>233.529999</td>\n",
       "      <td>85671900.0</td>\n",
       "      <td>24792000.0</td>\n",
       "    </tr>\n",
       "    <tr>\n",
       "      <td>2021-03-31</td>\n",
       "      <td>122.150002</td>\n",
       "      <td>235.770004</td>\n",
       "      <td>122.150002</td>\n",
       "      <td>235.770004</td>\n",
       "      <td>123.519997</td>\n",
       "      <td>239.100006</td>\n",
       "      <td>121.150002</td>\n",
       "      <td>232.389999</td>\n",
       "      <td>121.650002</td>\n",
       "      <td>232.910004</td>\n",
       "      <td>118323800.0</td>\n",
       "      <td>43623500.0</td>\n",
       "    </tr>\n",
       "    <tr>\n",
       "      <td>2021-04-01</td>\n",
       "      <td>123.000000</td>\n",
       "      <td>242.350006</td>\n",
       "      <td>123.000000</td>\n",
       "      <td>242.350006</td>\n",
       "      <td>124.180000</td>\n",
       "      <td>242.839996</td>\n",
       "      <td>122.489998</td>\n",
       "      <td>238.050003</td>\n",
       "      <td>123.660004</td>\n",
       "      <td>238.470001</td>\n",
       "      <td>74957400.0</td>\n",
       "      <td>30312000.0</td>\n",
       "    </tr>\n",
       "  </tbody>\n",
       "</table>\n",
       "<p>62 rows × 12 columns</p>\n",
       "</div>"
      ],
      "text/plain": [
       "Attributes   Adj Close                   Close                    High  \\\n",
       "Symbols           AAPL        MSFT        AAPL        MSFT        AAPL   \n",
       "Date                                                                     \n",
       "2021-01-04  129.216919  217.189774  129.410004  217.690002  133.610001   \n",
       "2021-01-05  130.814514  217.399292  131.009995  217.899994  131.740005   \n",
       "2021-01-06  126.411102  211.762268  126.599998  212.250000  131.050003   \n",
       "2021-01-07  130.724655  217.788391  130.919998  218.289993  131.630005   \n",
       "2021-01-08  131.852966  219.115341  132.050003  219.619995  132.630005   \n",
       "...                ...         ...         ...         ...         ...   \n",
       "2021-03-26  121.209999  236.479996  121.209999  236.479996  121.480003   \n",
       "2021-03-29  121.389999  235.240005  121.389999  235.240005  122.580002   \n",
       "2021-03-30  119.900002  231.850006  119.900002  231.850006  120.400002   \n",
       "2021-03-31  122.150002  235.770004  122.150002  235.770004  123.519997   \n",
       "2021-04-01  123.000000  242.350006  123.000000  242.350006  124.180000   \n",
       "\n",
       "Attributes                     Low                    Open              \\\n",
       "Symbols           MSFT        AAPL        MSFT        AAPL        MSFT   \n",
       "Date                                                                     \n",
       "2021-01-04  223.000000  126.760002  214.809998  133.520004  222.529999   \n",
       "2021-01-05  218.520004  128.429993  215.699997  128.889999  217.259995   \n",
       "2021-01-06  216.490005  126.379997  211.940002  127.720001  212.169998   \n",
       "2021-01-07  219.339996  127.860001  213.710007  128.360001  214.039993   \n",
       "2021-01-08  220.580002  130.229996  217.029999  132.429993  218.679993   \n",
       "...                ...         ...         ...         ...         ...   \n",
       "2021-03-26  236.710007  118.919998  231.550003  120.349998  231.550003   \n",
       "2021-03-29  236.800003  120.730003  231.880005  121.650002  236.589996   \n",
       "2021-03-30  233.850006  118.860001  231.100006  120.110001  233.529999   \n",
       "2021-03-31  239.100006  121.150002  232.389999  121.650002  232.910004   \n",
       "2021-04-01  242.839996  122.489998  238.050003  123.660004  238.470001   \n",
       "\n",
       "Attributes       Volume              \n",
       "Symbols            AAPL        MSFT  \n",
       "Date                                 \n",
       "2021-01-04  143301900.0  37130100.0  \n",
       "2021-01-05   97664900.0  23823000.0  \n",
       "2021-01-06  155088000.0  35930700.0  \n",
       "2021-01-07  109578200.0  27694500.0  \n",
       "2021-01-08  105158200.0  22956200.0  \n",
       "...                 ...         ...  \n",
       "2021-03-26   93958900.0  25471700.0  \n",
       "2021-03-29   80819200.0  25227500.0  \n",
       "2021-03-30   85671900.0  24792000.0  \n",
       "2021-03-31  118323800.0  43623500.0  \n",
       "2021-04-01   74957400.0  30312000.0  \n",
       "\n",
       "[62 rows x 12 columns]"
      ]
     },
     "execution_count": 79,
     "metadata": {},
     "output_type": "execute_result"
    }
   ],
   "source": [
    "df_stock "
   ]
  },
  {
   "cell_type": "code",
   "execution_count": 80,
   "metadata": {},
   "outputs": [
    {
     "data": {
      "text/plain": [
       "<matplotlib.axes._subplots.AxesSubplot at 0x1e36df2e248>"
      ]
     },
     "execution_count": 80,
     "metadata": {},
     "output_type": "execute_result"
    },
    {
     "data": {
      "image/png": "[encoded data removed]",
      "text/plain": [
       "<Figure size 576x432 with 1 Axes>"
      ]
     },
     "metadata": {
      "needs_background": "light"
     },
     "output_type": "display_data"
    }
   ],
   "source": [
    "df_stock['Close'].plot(figsize=(8,6))"
   ]
  },
  {
   "cell_type": "code",
   "execution_count": 83,
   "metadata": {},
   "outputs": [
    {
     "data": {
      "text/plain": [
       "MultiIndex([('Adj Close', 'AAPL'),\n",
       "            ('Adj Close', 'MSFT'),\n",
       "            (    'Close', 'AAPL'),\n",
       "            (    'Close', 'MSFT'),\n",
       "            (     'High', 'AAPL'),\n",
       "            (     'High', 'MSFT'),\n",
       "            (      'Low', 'AAPL'),\n",
       "            (      'Low', 'MSFT'),\n",
       "            (     'Open', 'AAPL'),\n",
       "            (     'Open', 'MSFT'),\n",
       "            (   'Volume', 'AAPL'),\n",
       "            (   'Volume', 'MSFT')],\n",
       "           names=['Attributes', 'Symbols'])"
      ]
     },
     "execution_count": 83,
     "metadata": {},
     "output_type": "execute_result"
    }
   ],
   "source": [
    "df_stock.columns"
   ]
  },
  {
   "cell_type": "code",
   "execution_count": 84,
   "metadata": {},
   "outputs": [],
   "source": [
    "#generate log return\n",
    "df_stock['Return','AAPL' ] = np.log(df_stock['Close','AAPL'] / df_stock['Close','AAPL'].shift(1))"
   ]
  },
  {
   "cell_type": "code",
   "execution_count": 85,
   "metadata": {},
   "outputs": [],
   "source": [
    "df_stock['Return','MSFT' ] = np.log(df_stock['Close','MSFT'] / df_stock['Close','MSFT'].shift(1))"
   ]
  },
  {
   "cell_type": "code",
   "execution_count": 86,
   "metadata": {},
   "outputs": [
    {
     "data": {
      "text/html": [
       "<div>\n",
       "<style scoped>\n",
       "    .dataframe tbody tr th:only-of-type {\n",
       "        vertical-align: middle;\n",
       "    }\n",
       "\n",
       "    .dataframe tbody tr th {\n",
       "        vertical-align: top;\n",
       "    }\n",
       "\n",
       "    .dataframe thead tr th {\n",
       "        text-align: left;\n",
       "    }\n",
       "\n",
       "    .dataframe thead tr:last-of-type th {\n",
       "        text-align: right;\n",
       "    }\n",
       "</style>\n",
       "<table border=\"1\" class=\"dataframe\">\n",
       "  <thead>\n",
       "    <tr>\n",
       "      <th>Attributes</th>\n",
       "      <th colspan=\"2\" halign=\"left\">Adj Close</th>\n",
       "      <th colspan=\"2\" halign=\"left\">Close</th>\n",
       "      <th colspan=\"2\" halign=\"left\">High</th>\n",
       "      <th colspan=\"2\" halign=\"left\">Low</th>\n",
       "      <th colspan=\"2\" halign=\"left\">Open</th>\n",
       "      <th colspan=\"2\" halign=\"left\">Volume</th>\n",
       "      <th colspan=\"2\" halign=\"left\">Return</th>\n",
       "    </tr>\n",
       "    <tr>\n",
       "      <th>Symbols</th>\n",
       "      <th>AAPL</th>\n",
       "      <th>MSFT</th>\n",
       "      <th>AAPL</th>\n",
       "      <th>MSFT</th>\n",
       "      <th>AAPL</th>\n",
       "      <th>MSFT</th>\n",
       "      <th>AAPL</th>\n",
       "      <th>MSFT</th>\n",
       "      <th>AAPL</th>\n",
       "      <th>MSFT</th>\n",
       "      <th>AAPL</th>\n",
       "      <th>MSFT</th>\n",
       "      <th>AAPL</th>\n",
       "      <th>MSFT</th>\n",
       "    </tr>\n",
       "    <tr>\n",
       "      <th>Date</th>\n",
       "      <th></th>\n",
       "      <th></th>\n",
       "      <th></th>\n",
       "      <th></th>\n",
       "      <th></th>\n",
       "      <th></th>\n",
       "      <th></th>\n",
       "      <th></th>\n",
       "      <th></th>\n",
       "      <th></th>\n",
       "      <th></th>\n",
       "      <th></th>\n",
       "      <th></th>\n",
       "      <th></th>\n",
       "    </tr>\n",
       "  </thead>\n",
       "  <tbody>\n",
       "    <tr>\n",
       "      <td>2021-01-04</td>\n",
       "      <td>129.216919</td>\n",
       "      <td>217.189774</td>\n",
       "      <td>129.410004</td>\n",
       "      <td>217.690002</td>\n",
       "      <td>133.610001</td>\n",
       "      <td>223.000000</td>\n",
       "      <td>126.760002</td>\n",
       "      <td>214.809998</td>\n",
       "      <td>133.520004</td>\n",
       "      <td>222.529999</td>\n",
       "      <td>143301900.0</td>\n",
       "      <td>37130100.0</td>\n",
       "      <td>NaN</td>\n",
       "      <td>NaN</td>\n",
       "    </tr>\n",
       "    <tr>\n",
       "      <td>2021-01-05</td>\n",
       "      <td>130.814514</td>\n",
       "      <td>217.399292</td>\n",
       "      <td>131.009995</td>\n",
       "      <td>217.899994</td>\n",
       "      <td>131.740005</td>\n",
       "      <td>218.520004</td>\n",
       "      <td>128.429993</td>\n",
       "      <td>215.699997</td>\n",
       "      <td>128.889999</td>\n",
       "      <td>217.259995</td>\n",
       "      <td>97664900.0</td>\n",
       "      <td>23823000.0</td>\n",
       "      <td>0.012288</td>\n",
       "      <td>0.000964</td>\n",
       "    </tr>\n",
       "    <tr>\n",
       "      <td>2021-01-06</td>\n",
       "      <td>126.411102</td>\n",
       "      <td>211.762268</td>\n",
       "      <td>126.599998</td>\n",
       "      <td>212.250000</td>\n",
       "      <td>131.050003</td>\n",
       "      <td>216.490005</td>\n",
       "      <td>126.379997</td>\n",
       "      <td>211.940002</td>\n",
       "      <td>127.720001</td>\n",
       "      <td>212.169998</td>\n",
       "      <td>155088000.0</td>\n",
       "      <td>35930700.0</td>\n",
       "      <td>-0.034241</td>\n",
       "      <td>-0.026271</td>\n",
       "    </tr>\n",
       "    <tr>\n",
       "      <td>2021-01-07</td>\n",
       "      <td>130.724655</td>\n",
       "      <td>217.788391</td>\n",
       "      <td>130.919998</td>\n",
       "      <td>218.289993</td>\n",
       "      <td>131.630005</td>\n",
       "      <td>219.339996</td>\n",
       "      <td>127.860001</td>\n",
       "      <td>213.710007</td>\n",
       "      <td>128.360001</td>\n",
       "      <td>214.039993</td>\n",
       "      <td>109578200.0</td>\n",
       "      <td>27694500.0</td>\n",
       "      <td>0.033554</td>\n",
       "      <td>0.028060</td>\n",
       "    </tr>\n",
       "    <tr>\n",
       "      <td>2021-01-08</td>\n",
       "      <td>131.852966</td>\n",
       "      <td>219.115341</td>\n",
       "      <td>132.050003</td>\n",
       "      <td>219.619995</td>\n",
       "      <td>132.630005</td>\n",
       "      <td>220.580002</td>\n",
       "      <td>130.229996</td>\n",
       "      <td>217.029999</td>\n",
       "      <td>132.429993</td>\n",
       "      <td>218.679993</td>\n",
       "      <td>105158200.0</td>\n",
       "      <td>22956200.0</td>\n",
       "      <td>0.008594</td>\n",
       "      <td>0.006074</td>\n",
       "    </tr>\n",
       "    <tr>\n",
       "      <td>...</td>\n",
       "      <td>...</td>\n",
       "      <td>...</td>\n",
       "      <td>...</td>\n",
       "      <td>...</td>\n",
       "      <td>...</td>\n",
       "      <td>...</td>\n",
       "      <td>...</td>\n",
       "      <td>...</td>\n",
       "      <td>...</td>\n",
       "      <td>...</td>\n",
       "      <td>...</td>\n",
       "      <td>...</td>\n",
       "      <td>...</td>\n",
       "      <td>...</td>\n",
       "    </tr>\n",
       "    <tr>\n",
       "      <td>2021-03-26</td>\n",
       "      <td>121.209999</td>\n",
       "      <td>236.479996</td>\n",
       "      <td>121.209999</td>\n",
       "      <td>236.479996</td>\n",
       "      <td>121.480003</td>\n",
       "      <td>236.710007</td>\n",
       "      <td>118.919998</td>\n",
       "      <td>231.550003</td>\n",
       "      <td>120.349998</td>\n",
       "      <td>231.550003</td>\n",
       "      <td>93958900.0</td>\n",
       "      <td>25471700.0</td>\n",
       "      <td>0.005128</td>\n",
       "      <td>0.017662</td>\n",
       "    </tr>\n",
       "    <tr>\n",
       "      <td>2021-03-29</td>\n",
       "      <td>121.389999</td>\n",
       "      <td>235.240005</td>\n",
       "      <td>121.389999</td>\n",
       "      <td>235.240005</td>\n",
       "      <td>122.580002</td>\n",
       "      <td>236.800003</td>\n",
       "      <td>120.730003</td>\n",
       "      <td>231.880005</td>\n",
       "      <td>121.650002</td>\n",
       "      <td>236.589996</td>\n",
       "      <td>80819200.0</td>\n",
       "      <td>25227500.0</td>\n",
       "      <td>0.001484</td>\n",
       "      <td>-0.005257</td>\n",
       "    </tr>\n",
       "    <tr>\n",
       "      <td>2021-03-30</td>\n",
       "      <td>119.900002</td>\n",
       "      <td>231.850006</td>\n",
       "      <td>119.900002</td>\n",
       "      <td>231.850006</td>\n",
       "      <td>120.400002</td>\n",
       "      <td>233.850006</td>\n",
       "      <td>118.860001</td>\n",
       "      <td>231.100006</td>\n",
       "      <td>120.110001</td>\n",
       "      <td>233.529999</td>\n",
       "      <td>85671900.0</td>\n",
       "      <td>24792000.0</td>\n",
       "      <td>-0.012350</td>\n",
       "      <td>-0.014516</td>\n",
       "    </tr>\n",
       "    <tr>\n",
       "      <td>2021-03-31</td>\n",
       "      <td>122.150002</td>\n",
       "      <td>235.770004</td>\n",
       "      <td>122.150002</td>\n",
       "      <td>235.770004</td>\n",
       "      <td>123.519997</td>\n",
       "      <td>239.100006</td>\n",
       "      <td>121.150002</td>\n",
       "      <td>232.389999</td>\n",
       "      <td>121.650002</td>\n",
       "      <td>232.910004</td>\n",
       "      <td>118323800.0</td>\n",
       "      <td>43623500.0</td>\n",
       "      <td>0.018592</td>\n",
       "      <td>0.016766</td>\n",
       "    </tr>\n",
       "    <tr>\n",
       "      <td>2021-04-01</td>\n",
       "      <td>123.000000</td>\n",
       "      <td>242.350006</td>\n",
       "      <td>123.000000</td>\n",
       "      <td>242.350006</td>\n",
       "      <td>124.180000</td>\n",
       "      <td>242.839996</td>\n",
       "      <td>122.489998</td>\n",
       "      <td>238.050003</td>\n",
       "      <td>123.660004</td>\n",
       "      <td>238.470001</td>\n",
       "      <td>74957400.0</td>\n",
       "      <td>30312000.0</td>\n",
       "      <td>0.006935</td>\n",
       "      <td>0.027526</td>\n",
       "    </tr>\n",
       "  </tbody>\n",
       "</table>\n",
       "<p>62 rows × 14 columns</p>\n",
       "</div>"
      ],
      "text/plain": [
       "Attributes   Adj Close                   Close                    High  \\\n",
       "Symbols           AAPL        MSFT        AAPL        MSFT        AAPL   \n",
       "Date                                                                     \n",
       "2021-01-04  129.216919  217.189774  129.410004  217.690002  133.610001   \n",
       "2021-01-05  130.814514  217.399292  131.009995  217.899994  131.740005   \n",
       "2021-01-06  126.411102  211.762268  126.599998  212.250000  131.050003   \n",
       "2021-01-07  130.724655  217.788391  130.919998  218.289993  131.630005   \n",
       "2021-01-08  131.852966  219.115341  132.050003  219.619995  132.630005   \n",
       "...                ...         ...         ...         ...         ...   \n",
       "2021-03-26  121.209999  236.479996  121.209999  236.479996  121.480003   \n",
       "2021-03-29  121.389999  235.240005  121.389999  235.240005  122.580002   \n",
       "2021-03-30  119.900002  231.850006  119.900002  231.850006  120.400002   \n",
       "2021-03-31  122.150002  235.770004  122.150002  235.770004  123.519997   \n",
       "2021-04-01  123.000000  242.350006  123.000000  242.350006  124.180000   \n",
       "\n",
       "Attributes                     Low                    Open              \\\n",
       "Symbols           MSFT        AAPL        MSFT        AAPL        MSFT   \n",
       "Date                                                                     \n",
       "2021-01-04  223.000000  126.760002  214.809998  133.520004  222.529999   \n",
       "2021-01-05  218.520004  128.429993  215.699997  128.889999  217.259995   \n",
       "2021-01-06  216.490005  126.379997  211.940002  127.720001  212.169998   \n",
       "2021-01-07  219.339996  127.860001  213.710007  128.360001  214.039993   \n",
       "2021-01-08  220.580002  130.229996  217.029999  132.429993  218.679993   \n",
       "...                ...         ...         ...         ...         ...   \n",
       "2021-03-26  236.710007  118.919998  231.550003  120.349998  231.550003   \n",
       "2021-03-29  236.800003  120.730003  231.880005  121.650002  236.589996   \n",
       "2021-03-30  233.850006  118.860001  231.100006  120.110001  233.529999   \n",
       "2021-03-31  239.100006  121.150002  232.389999  121.650002  232.910004   \n",
       "2021-04-01  242.839996  122.489998  238.050003  123.660004  238.470001   \n",
       "\n",
       "Attributes       Volume                Return            \n",
       "Symbols            AAPL        MSFT      AAPL      MSFT  \n",
       "Date                                                     \n",
       "2021-01-04  143301900.0  37130100.0       NaN       NaN  \n",
       "2021-01-05   97664900.0  23823000.0  0.012288  0.000964  \n",
       "2021-01-06  155088000.0  35930700.0 -0.034241 -0.026271  \n",
       "2021-01-07  109578200.0  27694500.0  0.033554  0.028060  \n",
       "2021-01-08  105158200.0  22956200.0  0.008594  0.006074  \n",
       "...                 ...         ...       ...       ...  \n",
       "2021-03-26   93958900.0  25471700.0  0.005128  0.017662  \n",
       "2021-03-29   80819200.0  25227500.0  0.001484 -0.005257  \n",
       "2021-03-30   85671900.0  24792000.0 -0.012350 -0.014516  \n",
       "2021-03-31  118323800.0  43623500.0  0.018592  0.016766  \n",
       "2021-04-01   74957400.0  30312000.0  0.006935  0.027526  \n",
       "\n",
       "[62 rows x 14 columns]"
      ]
     },
     "execution_count": 86,
     "metadata": {},
     "output_type": "execute_result"
    }
   ],
   "source": [
    "df_stock"
   ]
  },
  {
   "cell_type": "code",
   "execution_count": 88,
   "metadata": {},
   "outputs": [],
   "source": [
    "#rolling mean\n",
    "df_stock['42d','AAPL' ] = df_stock['Close','AAPL'].rolling(42).mean()"
   ]
  },
  {
   "cell_type": "code",
   "execution_count": 89,
   "metadata": {},
   "outputs": [
    {
     "data": {
      "text/html": [
       "<div>\n",
       "<style scoped>\n",
       "    .dataframe tbody tr th:only-of-type {\n",
       "        vertical-align: middle;\n",
       "    }\n",
       "\n",
       "    .dataframe tbody tr th {\n",
       "        vertical-align: top;\n",
       "    }\n",
       "\n",
       "    .dataframe thead tr th {\n",
       "        text-align: left;\n",
       "    }\n",
       "\n",
       "    .dataframe thead tr:last-of-type th {\n",
       "        text-align: right;\n",
       "    }\n",
       "</style>\n",
       "<table border=\"1\" class=\"dataframe\">\n",
       "  <thead>\n",
       "    <tr>\n",
       "      <th>Attributes</th>\n",
       "      <th colspan=\"2\" halign=\"left\">Adj Close</th>\n",
       "      <th colspan=\"2\" halign=\"left\">Close</th>\n",
       "      <th colspan=\"2\" halign=\"left\">High</th>\n",
       "      <th colspan=\"2\" halign=\"left\">Low</th>\n",
       "      <th colspan=\"2\" halign=\"left\">Open</th>\n",
       "      <th colspan=\"2\" halign=\"left\">Volume</th>\n",
       "      <th colspan=\"2\" halign=\"left\">Return</th>\n",
       "      <th colspan=\"2\" halign=\"left\">42d</th>\n",
       "    </tr>\n",
       "    <tr>\n",
       "      <th>Symbols</th>\n",
       "      <th>AAPL</th>\n",
       "      <th>MSFT</th>\n",
       "      <th>AAPL</th>\n",
       "      <th>MSFT</th>\n",
       "      <th>AAPL</th>\n",
       "      <th>MSFT</th>\n",
       "      <th>AAPL</th>\n",
       "      <th>MSFT</th>\n",
       "      <th>AAPL</th>\n",
       "      <th>MSFT</th>\n",
       "      <th>AAPL</th>\n",
       "      <th>MSFT</th>\n",
       "      <th>AAPL</th>\n",
       "      <th>MSFT</th>\n",
       "      <th>AAPL</th>\n",
       "      <th>MSFT</th>\n",
       "    </tr>\n",
       "    <tr>\n",
       "      <th>Date</th>\n",
       "      <th></th>\n",
       "      <th></th>\n",
       "      <th></th>\n",
       "      <th></th>\n",
       "      <th></th>\n",
       "      <th></th>\n",
       "      <th></th>\n",
       "      <th></th>\n",
       "      <th></th>\n",
       "      <th></th>\n",
       "      <th></th>\n",
       "      <th></th>\n",
       "      <th></th>\n",
       "      <th></th>\n",
       "      <th></th>\n",
       "      <th></th>\n",
       "    </tr>\n",
       "  </thead>\n",
       "  <tbody>\n",
       "    <tr>\n",
       "      <td>2021-01-04</td>\n",
       "      <td>129.216919</td>\n",
       "      <td>217.189774</td>\n",
       "      <td>129.410004</td>\n",
       "      <td>217.690002</td>\n",
       "      <td>133.610001</td>\n",
       "      <td>223.000000</td>\n",
       "      <td>126.760002</td>\n",
       "      <td>214.809998</td>\n",
       "      <td>133.520004</td>\n",
       "      <td>222.529999</td>\n",
       "      <td>143301900.0</td>\n",
       "      <td>37130100.0</td>\n",
       "      <td>NaN</td>\n",
       "      <td>NaN</td>\n",
       "      <td>NaN</td>\n",
       "      <td>NaN</td>\n",
       "    </tr>\n",
       "    <tr>\n",
       "      <td>2021-01-05</td>\n",
       "      <td>130.814514</td>\n",
       "      <td>217.399292</td>\n",
       "      <td>131.009995</td>\n",
       "      <td>217.899994</td>\n",
       "      <td>131.740005</td>\n",
       "      <td>218.520004</td>\n",
       "      <td>128.429993</td>\n",
       "      <td>215.699997</td>\n",
       "      <td>128.889999</td>\n",
       "      <td>217.259995</td>\n",
       "      <td>97664900.0</td>\n",
       "      <td>23823000.0</td>\n",
       "      <td>0.012288</td>\n",
       "      <td>0.000964</td>\n",
       "      <td>NaN</td>\n",
       "      <td>NaN</td>\n",
       "    </tr>\n",
       "    <tr>\n",
       "      <td>2021-01-06</td>\n",
       "      <td>126.411102</td>\n",
       "      <td>211.762268</td>\n",
       "      <td>126.599998</td>\n",
       "      <td>212.250000</td>\n",
       "      <td>131.050003</td>\n",
       "      <td>216.490005</td>\n",
       "      <td>126.379997</td>\n",
       "      <td>211.940002</td>\n",
       "      <td>127.720001</td>\n",
       "      <td>212.169998</td>\n",
       "      <td>155088000.0</td>\n",
       "      <td>35930700.0</td>\n",
       "      <td>-0.034241</td>\n",
       "      <td>-0.026271</td>\n",
       "      <td>NaN</td>\n",
       "      <td>NaN</td>\n",
       "    </tr>\n",
       "    <tr>\n",
       "      <td>2021-01-07</td>\n",
       "      <td>130.724655</td>\n",
       "      <td>217.788391</td>\n",
       "      <td>130.919998</td>\n",
       "      <td>218.289993</td>\n",
       "      <td>131.630005</td>\n",
       "      <td>219.339996</td>\n",
       "      <td>127.860001</td>\n",
       "      <td>213.710007</td>\n",
       "      <td>128.360001</td>\n",
       "      <td>214.039993</td>\n",
       "      <td>109578200.0</td>\n",
       "      <td>27694500.0</td>\n",
       "      <td>0.033554</td>\n",
       "      <td>0.028060</td>\n",
       "      <td>NaN</td>\n",
       "      <td>NaN</td>\n",
       "    </tr>\n",
       "    <tr>\n",
       "      <td>2021-01-08</td>\n",
       "      <td>131.852966</td>\n",
       "      <td>219.115341</td>\n",
       "      <td>132.050003</td>\n",
       "      <td>219.619995</td>\n",
       "      <td>132.630005</td>\n",
       "      <td>220.580002</td>\n",
       "      <td>130.229996</td>\n",
       "      <td>217.029999</td>\n",
       "      <td>132.429993</td>\n",
       "      <td>218.679993</td>\n",
       "      <td>105158200.0</td>\n",
       "      <td>22956200.0</td>\n",
       "      <td>0.008594</td>\n",
       "      <td>0.006074</td>\n",
       "      <td>NaN</td>\n",
       "      <td>NaN</td>\n",
       "    </tr>\n",
       "    <tr>\n",
       "      <td>...</td>\n",
       "      <td>...</td>\n",
       "      <td>...</td>\n",
       "      <td>...</td>\n",
       "      <td>...</td>\n",
       "      <td>...</td>\n",
       "      <td>...</td>\n",
       "      <td>...</td>\n",
       "      <td>...</td>\n",
       "      <td>...</td>\n",
       "      <td>...</td>\n",
       "      <td>...</td>\n",
       "      <td>...</td>\n",
       "      <td>...</td>\n",
       "      <td>...</td>\n",
       "      <td>...</td>\n",
       "      <td>...</td>\n",
       "    </tr>\n",
       "    <tr>\n",
       "      <td>2021-03-26</td>\n",
       "      <td>121.209999</td>\n",
       "      <td>236.479996</td>\n",
       "      <td>121.209999</td>\n",
       "      <td>236.479996</td>\n",
       "      <td>121.480003</td>\n",
       "      <td>236.710007</td>\n",
       "      <td>118.919998</td>\n",
       "      <td>231.550003</td>\n",
       "      <td>120.349998</td>\n",
       "      <td>231.550003</td>\n",
       "      <td>93958900.0</td>\n",
       "      <td>25471700.0</td>\n",
       "      <td>0.005128</td>\n",
       "      <td>0.017662</td>\n",
       "      <td>127.376428</td>\n",
       "      <td>236.588333</td>\n",
       "    </tr>\n",
       "    <tr>\n",
       "      <td>2021-03-29</td>\n",
       "      <td>121.389999</td>\n",
       "      <td>235.240005</td>\n",
       "      <td>121.389999</td>\n",
       "      <td>235.240005</td>\n",
       "      <td>122.580002</td>\n",
       "      <td>236.800003</td>\n",
       "      <td>120.730003</td>\n",
       "      <td>231.880005</td>\n",
       "      <td>121.650002</td>\n",
       "      <td>236.589996</td>\n",
       "      <td>80819200.0</td>\n",
       "      <td>25227500.0</td>\n",
       "      <td>0.001484</td>\n",
       "      <td>-0.005257</td>\n",
       "      <td>126.884285</td>\n",
       "      <td>236.644048</td>\n",
       "    </tr>\n",
       "    <tr>\n",
       "      <td>2021-03-30</td>\n",
       "      <td>119.900002</td>\n",
       "      <td>231.850006</td>\n",
       "      <td>119.900002</td>\n",
       "      <td>231.850006</td>\n",
       "      <td>120.400002</td>\n",
       "      <td>233.850006</td>\n",
       "      <td>118.860001</td>\n",
       "      <td>231.100006</td>\n",
       "      <td>120.110001</td>\n",
       "      <td>233.529999</td>\n",
       "      <td>85671900.0</td>\n",
       "      <td>24792000.0</td>\n",
       "      <td>-0.012350</td>\n",
       "      <td>-0.014516</td>\n",
       "      <td>126.475000</td>\n",
       "      <td>236.475477</td>\n",
       "    </tr>\n",
       "    <tr>\n",
       "      <td>2021-03-31</td>\n",
       "      <td>122.150002</td>\n",
       "      <td>235.770004</td>\n",
       "      <td>122.150002</td>\n",
       "      <td>235.770004</td>\n",
       "      <td>123.519997</td>\n",
       "      <td>239.100006</td>\n",
       "      <td>121.150002</td>\n",
       "      <td>232.389999</td>\n",
       "      <td>121.650002</td>\n",
       "      <td>232.910004</td>\n",
       "      <td>118323800.0</td>\n",
       "      <td>43623500.0</td>\n",
       "      <td>0.018592</td>\n",
       "      <td>0.016766</td>\n",
       "      <td>126.241428</td>\n",
       "      <td>236.566191</td>\n",
       "    </tr>\n",
       "    <tr>\n",
       "      <td>2021-04-01</td>\n",
       "      <td>123.000000</td>\n",
       "      <td>242.350006</td>\n",
       "      <td>123.000000</td>\n",
       "      <td>242.350006</td>\n",
       "      <td>124.180000</td>\n",
       "      <td>242.839996</td>\n",
       "      <td>122.489998</td>\n",
       "      <td>238.050003</td>\n",
       "      <td>123.660004</td>\n",
       "      <td>238.470001</td>\n",
       "      <td>74957400.0</td>\n",
       "      <td>30312000.0</td>\n",
       "      <td>0.006935</td>\n",
       "      <td>0.027526</td>\n",
       "      <td>125.976190</td>\n",
       "      <td>236.630477</td>\n",
       "    </tr>\n",
       "  </tbody>\n",
       "</table>\n",
       "<p>62 rows × 16 columns</p>\n",
       "</div>"
      ],
      "text/plain": [
       "Attributes   Adj Close                   Close                    High  \\\n",
       "Symbols           AAPL        MSFT        AAPL        MSFT        AAPL   \n",
       "Date                                                                     \n",
       "2021-01-04  129.216919  217.189774  129.410004  217.690002  133.610001   \n",
       "2021-01-05  130.814514  217.399292  131.009995  217.899994  131.740005   \n",
       "2021-01-06  126.411102  211.762268  126.599998  212.250000  131.050003   \n",
       "2021-01-07  130.724655  217.788391  130.919998  218.289993  131.630005   \n",
       "2021-01-08  131.852966  219.115341  132.050003  219.619995  132.630005   \n",
       "...                ...         ...         ...         ...         ...   \n",
       "2021-03-26  121.209999  236.479996  121.209999  236.479996  121.480003   \n",
       "2021-03-29  121.389999  235.240005  121.389999  235.240005  122.580002   \n",
       "2021-03-30  119.900002  231.850006  119.900002  231.850006  120.400002   \n",
       "2021-03-31  122.150002  235.770004  122.150002  235.770004  123.519997   \n",
       "2021-04-01  123.000000  242.350006  123.000000  242.350006  124.180000   \n",
       "\n",
       "Attributes                     Low                    Open              \\\n",
       "Symbols           MSFT        AAPL        MSFT        AAPL        MSFT   \n",
       "Date                                                                     \n",
       "2021-01-04  223.000000  126.760002  214.809998  133.520004  222.529999   \n",
       "2021-01-05  218.520004  128.429993  215.699997  128.889999  217.259995   \n",
       "2021-01-06  216.490005  126.379997  211.940002  127.720001  212.169998   \n",
       "2021-01-07  219.339996  127.860001  213.710007  128.360001  214.039993   \n",
       "2021-01-08  220.580002  130.229996  217.029999  132.429993  218.679993   \n",
       "...                ...         ...         ...         ...         ...   \n",
       "2021-03-26  236.710007  118.919998  231.550003  120.349998  231.550003   \n",
       "2021-03-29  236.800003  120.730003  231.880005  121.650002  236.589996   \n",
       "2021-03-30  233.850006  118.860001  231.100006  120.110001  233.529999   \n",
       "2021-03-31  239.100006  121.150002  232.389999  121.650002  232.910004   \n",
       "2021-04-01  242.839996  122.489998  238.050003  123.660004  238.470001   \n",
       "\n",
       "Attributes       Volume                Return                   42d  \\\n",
       "Symbols            AAPL        MSFT      AAPL      MSFT        AAPL   \n",
       "Date                                                                  \n",
       "2021-01-04  143301900.0  37130100.0       NaN       NaN         NaN   \n",
       "2021-01-05   97664900.0  23823000.0  0.012288  0.000964         NaN   \n",
       "2021-01-06  155088000.0  35930700.0 -0.034241 -0.026271         NaN   \n",
       "2021-01-07  109578200.0  27694500.0  0.033554  0.028060         NaN   \n",
       "2021-01-08  105158200.0  22956200.0  0.008594  0.006074         NaN   \n",
       "...                 ...         ...       ...       ...         ...   \n",
       "2021-03-26   93958900.0  25471700.0  0.005128  0.017662  127.376428   \n",
       "2021-03-29   80819200.0  25227500.0  0.001484 -0.005257  126.884285   \n",
       "2021-03-30   85671900.0  24792000.0 -0.012350 -0.014516  126.475000   \n",
       "2021-03-31  118323800.0  43623500.0  0.018592  0.016766  126.241428   \n",
       "2021-04-01   74957400.0  30312000.0  0.006935  0.027526  125.976190   \n",
       "\n",
       "Attributes              \n",
       "Symbols           MSFT  \n",
       "Date                    \n",
       "2021-01-04         NaN  \n",
       "2021-01-05         NaN  \n",
       "2021-01-06         NaN  \n",
       "2021-01-07         NaN  \n",
       "2021-01-08         NaN  \n",
       "...                ...  \n",
       "2021-03-26  236.588333  \n",
       "2021-03-29  236.644048  \n",
       "2021-03-30  236.475477  \n",
       "2021-03-31  236.566191  \n",
       "2021-04-01  236.630477  \n",
       "\n",
       "[62 rows x 16 columns]"
      ]
     },
     "execution_count": 89,
     "metadata": {},
     "output_type": "execute_result"
    }
   ],
   "source": [
    "df_stock['42d','MSFT' ] = df_stock['Close','MSFT'].rolling(42).mean()\n",
    "df_stock"
   ]
  },
  {
   "cell_type": "markdown",
   "metadata": {},
   "source": [
    "## Chap7. Input and output"
   ]
  },
  {
   "cell_type": "code",
   "execution_count": 1,
   "metadata": {},
   "outputs": [],
   "source": [
    "import pickle"
   ]
  },
  {
   "cell_type": "code",
   "execution_count": null,
   "metadata": {},
   "outputs": [],
   "source": []
  }
 ],
 "metadata": {
  "kernelspec": {
   "display_name": "Python 3",
   "language": "python",
   "name": "python3"
  },
  "language_info": {
   "codemirror_mode": {
    "name": "ipython",
    "version": 3
   },
   "file_extension": ".py",
   "mimetype": "text/x-python",
   "name": "python",
   "nbconvert_exporter": "python",
   "pygments_lexer": "ipython3",
   "version": "3.7.4"
  }
 },
 "nbformat": 4,
 "nbformat_minor": 2
}
